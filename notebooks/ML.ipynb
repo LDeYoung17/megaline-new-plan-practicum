{
 "cells": [
  {
   "attachments": {},
   "cell_type": "markdown",
   "metadata": {},
   "source": [
    "<h1>Introduction</h1>\n",
    "Megaline is trying to predict the best model of their two new models for their legacy subscribers based on those subscribers' previous behavior. This project presents different models to do so and selects the best one based on their accuracy."
   ]
  },
  {
   "attachments": {},
   "cell_type": "markdown",
   "metadata": {},
   "source": [
    "Import statements necessary to complete project"
   ]
  },
  {
   "cell_type": "code",
   "execution_count": 60,
   "metadata": {},
   "outputs": [],
   "source": [
    "import pandas as pd\n",
    "from sklearn.linear_model import LogisticRegression\n",
    "from sklearn.ensemble import RandomForestClassifier\n",
    "from sklearn.tree import DecisionTreeClassifier\n",
    "from sklearn.metrics import accuracy_score\n",
    "from sklearn.model_selection import train_test_split\n",
    "\n"
   ]
  },
  {
   "attachments": {},
   "cell_type": "markdown",
   "metadata": {},
   "source": [
    "<h3>Open and look through the data file</h3>"
   ]
  },
  {
   "attachments": {},
   "cell_type": "markdown",
   "metadata": {},
   "source": [
    "Import data into dataframe"
   ]
  },
  {
   "cell_type": "code",
   "execution_count": 61,
   "metadata": {},
   "outputs": [],
   "source": [
    "megaline_user_data = pd.read_csv('/Users/leahdeyoung/Desktop/GitHub/megaline-new-plan-practicum/users_behavior.csv', encoding = \"utf-8\")\n"
   ]
  },
  {
   "attachments": {},
   "cell_type": "markdown",
   "metadata": {},
   "source": [
    "Display dataframe info and a random sample of 10 lines"
   ]
  },
  {
   "cell_type": "code",
   "execution_count": 62,
   "metadata": {},
   "outputs": [
    {
     "data": {
      "text/html": [
       "<div>\n",
       "<style scoped>\n",
       "    .dataframe tbody tr th:only-of-type {\n",
       "        vertical-align: middle;\n",
       "    }\n",
       "\n",
       "    .dataframe tbody tr th {\n",
       "        vertical-align: top;\n",
       "    }\n",
       "\n",
       "    .dataframe thead th {\n",
       "        text-align: right;\n",
       "    }\n",
       "</style>\n",
       "<table border=\"1\" class=\"dataframe\">\n",
       "  <thead>\n",
       "    <tr style=\"text-align: right;\">\n",
       "      <th></th>\n",
       "      <th>calls</th>\n",
       "      <th>minutes</th>\n",
       "      <th>messages</th>\n",
       "      <th>mb_used</th>\n",
       "      <th>is_ultra</th>\n",
       "    </tr>\n",
       "  </thead>\n",
       "  <tbody>\n",
       "    <tr>\n",
       "      <th>2369</th>\n",
       "      <td>62.0</td>\n",
       "      <td>436.40</td>\n",
       "      <td>89.0</td>\n",
       "      <td>8495.06</td>\n",
       "      <td>1</td>\n",
       "    </tr>\n",
       "    <tr>\n",
       "      <th>1890</th>\n",
       "      <td>91.0</td>\n",
       "      <td>599.30</td>\n",
       "      <td>44.0</td>\n",
       "      <td>20183.72</td>\n",
       "      <td>0</td>\n",
       "    </tr>\n",
       "    <tr>\n",
       "      <th>1466</th>\n",
       "      <td>31.0</td>\n",
       "      <td>172.10</td>\n",
       "      <td>25.0</td>\n",
       "      <td>31077.59</td>\n",
       "      <td>0</td>\n",
       "    </tr>\n",
       "    <tr>\n",
       "      <th>2482</th>\n",
       "      <td>53.0</td>\n",
       "      <td>370.88</td>\n",
       "      <td>82.0</td>\n",
       "      <td>21276.92</td>\n",
       "      <td>1</td>\n",
       "    </tr>\n",
       "    <tr>\n",
       "      <th>7</th>\n",
       "      <td>15.0</td>\n",
       "      <td>132.40</td>\n",
       "      <td>6.0</td>\n",
       "      <td>21911.60</td>\n",
       "      <td>0</td>\n",
       "    </tr>\n",
       "    <tr>\n",
       "      <th>1170</th>\n",
       "      <td>29.0</td>\n",
       "      <td>143.87</td>\n",
       "      <td>0.0</td>\n",
       "      <td>16152.11</td>\n",
       "      <td>0</td>\n",
       "    </tr>\n",
       "    <tr>\n",
       "      <th>2943</th>\n",
       "      <td>0.0</td>\n",
       "      <td>0.00</td>\n",
       "      <td>17.0</td>\n",
       "      <td>12905.41</td>\n",
       "      <td>1</td>\n",
       "    </tr>\n",
       "    <tr>\n",
       "      <th>3077</th>\n",
       "      <td>22.0</td>\n",
       "      <td>120.09</td>\n",
       "      <td>16.0</td>\n",
       "      <td>9039.57</td>\n",
       "      <td>0</td>\n",
       "    </tr>\n",
       "    <tr>\n",
       "      <th>690</th>\n",
       "      <td>45.0</td>\n",
       "      <td>329.10</td>\n",
       "      <td>23.0</td>\n",
       "      <td>21874.54</td>\n",
       "      <td>0</td>\n",
       "    </tr>\n",
       "    <tr>\n",
       "      <th>1781</th>\n",
       "      <td>36.0</td>\n",
       "      <td>285.92</td>\n",
       "      <td>109.0</td>\n",
       "      <td>19103.31</td>\n",
       "      <td>0</td>\n",
       "    </tr>\n",
       "  </tbody>\n",
       "</table>\n",
       "</div>"
      ],
      "text/plain": [
       "      calls  minutes  messages   mb_used  is_ultra\n",
       "2369   62.0   436.40      89.0   8495.06         1\n",
       "1890   91.0   599.30      44.0  20183.72         0\n",
       "1466   31.0   172.10      25.0  31077.59         0\n",
       "2482   53.0   370.88      82.0  21276.92         1\n",
       "7      15.0   132.40       6.0  21911.60         0\n",
       "1170   29.0   143.87       0.0  16152.11         0\n",
       "2943    0.0     0.00      17.0  12905.41         1\n",
       "3077   22.0   120.09      16.0   9039.57         0\n",
       "690    45.0   329.10      23.0  21874.54         0\n",
       "1781   36.0   285.92     109.0  19103.31         0"
      ]
     },
     "metadata": {},
     "output_type": "display_data"
    },
    {
     "name": "stdout",
     "output_type": "stream",
     "text": [
      "<class 'pandas.core.frame.DataFrame'>\n",
      "RangeIndex: 3214 entries, 0 to 3213\n",
      "Data columns (total 5 columns):\n",
      " #   Column    Non-Null Count  Dtype  \n",
      "---  ------    --------------  -----  \n",
      " 0   calls     3214 non-null   float64\n",
      " 1   minutes   3214 non-null   float64\n",
      " 2   messages  3214 non-null   float64\n",
      " 3   mb_used   3214 non-null   float64\n",
      " 4   is_ultra  3214 non-null   int64  \n",
      "dtypes: float64(4), int64(1)\n",
      "memory usage: 125.7 KB\n"
     ]
    }
   ],
   "source": [
    "display(megaline_user_data.sample(10))\n",
    "megaline_user_data.info()"
   ]
  },
  {
   "attachments": {},
   "cell_type": "markdown",
   "metadata": {},
   "source": [
    "<h3>Split the source data into a training set, a validation set, and a test set</h3>"
   ]
  },
  {
   "cell_type": "code",
   "execution_count": 63,
   "metadata": {},
   "outputs": [
    {
     "data": {
      "text/html": [
       "<div>\n",
       "<style scoped>\n",
       "    .dataframe tbody tr th:only-of-type {\n",
       "        vertical-align: middle;\n",
       "    }\n",
       "\n",
       "    .dataframe tbody tr th {\n",
       "        vertical-align: top;\n",
       "    }\n",
       "\n",
       "    .dataframe thead th {\n",
       "        text-align: right;\n",
       "    }\n",
       "</style>\n",
       "<table border=\"1\" class=\"dataframe\">\n",
       "  <thead>\n",
       "    <tr style=\"text-align: right;\">\n",
       "      <th></th>\n",
       "      <th>calls</th>\n",
       "      <th>minutes</th>\n",
       "      <th>messages</th>\n",
       "      <th>mb_used</th>\n",
       "      <th>is_ultra</th>\n",
       "    </tr>\n",
       "  </thead>\n",
       "  <tbody>\n",
       "    <tr>\n",
       "      <th>1344</th>\n",
       "      <td>69.0</td>\n",
       "      <td>536.63</td>\n",
       "      <td>47.0</td>\n",
       "      <td>15988.41</td>\n",
       "      <td>0</td>\n",
       "    </tr>\n",
       "    <tr>\n",
       "      <th>1717</th>\n",
       "      <td>77.0</td>\n",
       "      <td>576.78</td>\n",
       "      <td>64.0</td>\n",
       "      <td>13598.82</td>\n",
       "      <td>0</td>\n",
       "    </tr>\n",
       "    <tr>\n",
       "      <th>2233</th>\n",
       "      <td>80.0</td>\n",
       "      <td>462.40</td>\n",
       "      <td>44.0</td>\n",
       "      <td>17885.44</td>\n",
       "      <td>0</td>\n",
       "    </tr>\n",
       "    <tr>\n",
       "      <th>574</th>\n",
       "      <td>11.0</td>\n",
       "      <td>77.94</td>\n",
       "      <td>28.0</td>\n",
       "      <td>25052.44</td>\n",
       "      <td>0</td>\n",
       "    </tr>\n",
       "    <tr>\n",
       "      <th>1823</th>\n",
       "      <td>28.0</td>\n",
       "      <td>187.37</td>\n",
       "      <td>0.0</td>\n",
       "      <td>4926.14</td>\n",
       "      <td>0</td>\n",
       "    </tr>\n",
       "    <tr>\n",
       "      <th>216</th>\n",
       "      <td>66.0</td>\n",
       "      <td>493.57</td>\n",
       "      <td>91.0</td>\n",
       "      <td>18527.96</td>\n",
       "      <td>0</td>\n",
       "    </tr>\n",
       "    <tr>\n",
       "      <th>1252</th>\n",
       "      <td>16.0</td>\n",
       "      <td>94.75</td>\n",
       "      <td>7.0</td>\n",
       "      <td>2696.04</td>\n",
       "      <td>1</td>\n",
       "    </tr>\n",
       "    <tr>\n",
       "      <th>546</th>\n",
       "      <td>65.0</td>\n",
       "      <td>458.46</td>\n",
       "      <td>0.0</td>\n",
       "      <td>15214.25</td>\n",
       "      <td>1</td>\n",
       "    </tr>\n",
       "    <tr>\n",
       "      <th>264</th>\n",
       "      <td>0.0</td>\n",
       "      <td>0.00</td>\n",
       "      <td>21.0</td>\n",
       "      <td>19559.55</td>\n",
       "      <td>0</td>\n",
       "    </tr>\n",
       "    <tr>\n",
       "      <th>578</th>\n",
       "      <td>8.0</td>\n",
       "      <td>55.13</td>\n",
       "      <td>0.0</td>\n",
       "      <td>1841.00</td>\n",
       "      <td>0</td>\n",
       "    </tr>\n",
       "  </tbody>\n",
       "</table>\n",
       "</div>"
      ],
      "text/plain": [
       "      calls  minutes  messages   mb_used  is_ultra\n",
       "1344   69.0   536.63      47.0  15988.41         0\n",
       "1717   77.0   576.78      64.0  13598.82         0\n",
       "2233   80.0   462.40      44.0  17885.44         0\n",
       "574    11.0    77.94      28.0  25052.44         0\n",
       "1823   28.0   187.37       0.0   4926.14         0\n",
       "216    66.0   493.57      91.0  18527.96         0\n",
       "1252   16.0    94.75       7.0   2696.04         1\n",
       "546    65.0   458.46       0.0  15214.25         1\n",
       "264     0.0     0.00      21.0  19559.55         0\n",
       "578     8.0    55.13       0.0   1841.00         0"
      ]
     },
     "metadata": {},
     "output_type": "display_data"
    },
    {
     "name": "stdout",
     "output_type": "stream",
     "text": [
      "<class 'pandas.core.frame.DataFrame'>\n",
      "Int64Index: 1928 entries, 2656 to 510\n",
      "Data columns (total 5 columns):\n",
      " #   Column    Non-Null Count  Dtype  \n",
      "---  ------    --------------  -----  \n",
      " 0   calls     1928 non-null   float64\n",
      " 1   minutes   1928 non-null   float64\n",
      " 2   messages  1928 non-null   float64\n",
      " 3   mb_used   1928 non-null   float64\n",
      " 4   is_ultra  1928 non-null   int64  \n",
      "dtypes: float64(4), int64(1)\n",
      "memory usage: 90.4 KB\n"
     ]
    },
    {
     "data": {
      "text/html": [
       "<div>\n",
       "<style scoped>\n",
       "    .dataframe tbody tr th:only-of-type {\n",
       "        vertical-align: middle;\n",
       "    }\n",
       "\n",
       "    .dataframe tbody tr th {\n",
       "        vertical-align: top;\n",
       "    }\n",
       "\n",
       "    .dataframe thead th {\n",
       "        text-align: right;\n",
       "    }\n",
       "</style>\n",
       "<table border=\"1\" class=\"dataframe\">\n",
       "  <thead>\n",
       "    <tr style=\"text-align: right;\">\n",
       "      <th></th>\n",
       "      <th>calls</th>\n",
       "      <th>minutes</th>\n",
       "      <th>messages</th>\n",
       "      <th>mb_used</th>\n",
       "      <th>is_ultra</th>\n",
       "    </tr>\n",
       "  </thead>\n",
       "  <tbody>\n",
       "    <tr>\n",
       "      <th>2968</th>\n",
       "      <td>80.0</td>\n",
       "      <td>581.24</td>\n",
       "      <td>60.0</td>\n",
       "      <td>20897.77</td>\n",
       "      <td>1</td>\n",
       "    </tr>\n",
       "    <tr>\n",
       "      <th>2314</th>\n",
       "      <td>32.0</td>\n",
       "      <td>182.24</td>\n",
       "      <td>131.0</td>\n",
       "      <td>23932.64</td>\n",
       "      <td>1</td>\n",
       "    </tr>\n",
       "    <tr>\n",
       "      <th>3121</th>\n",
       "      <td>55.0</td>\n",
       "      <td>381.11</td>\n",
       "      <td>16.0</td>\n",
       "      <td>17962.59</td>\n",
       "      <td>0</td>\n",
       "    </tr>\n",
       "    <tr>\n",
       "      <th>746</th>\n",
       "      <td>47.0</td>\n",
       "      <td>392.99</td>\n",
       "      <td>0.0</td>\n",
       "      <td>18981.92</td>\n",
       "      <td>0</td>\n",
       "    </tr>\n",
       "    <tr>\n",
       "      <th>3206</th>\n",
       "      <td>76.0</td>\n",
       "      <td>586.51</td>\n",
       "      <td>54.0</td>\n",
       "      <td>14345.74</td>\n",
       "      <td>0</td>\n",
       "    </tr>\n",
       "    <tr>\n",
       "      <th>2414</th>\n",
       "      <td>30.0</td>\n",
       "      <td>227.41</td>\n",
       "      <td>25.0</td>\n",
       "      <td>8503.11</td>\n",
       "      <td>0</td>\n",
       "    </tr>\n",
       "    <tr>\n",
       "      <th>801</th>\n",
       "      <td>28.0</td>\n",
       "      <td>238.38</td>\n",
       "      <td>8.0</td>\n",
       "      <td>21979.19</td>\n",
       "      <td>0</td>\n",
       "    </tr>\n",
       "    <tr>\n",
       "      <th>1511</th>\n",
       "      <td>60.0</td>\n",
       "      <td>413.85</td>\n",
       "      <td>38.0</td>\n",
       "      <td>20262.54</td>\n",
       "      <td>0</td>\n",
       "    </tr>\n",
       "    <tr>\n",
       "      <th>1791</th>\n",
       "      <td>21.0</td>\n",
       "      <td>112.98</td>\n",
       "      <td>115.0</td>\n",
       "      <td>24994.41</td>\n",
       "      <td>1</td>\n",
       "    </tr>\n",
       "    <tr>\n",
       "      <th>763</th>\n",
       "      <td>78.0</td>\n",
       "      <td>523.42</td>\n",
       "      <td>40.0</td>\n",
       "      <td>12477.65</td>\n",
       "      <td>1</td>\n",
       "    </tr>\n",
       "  </tbody>\n",
       "</table>\n",
       "</div>"
      ],
      "text/plain": [
       "      calls  minutes  messages   mb_used  is_ultra\n",
       "2968   80.0   581.24      60.0  20897.77         1\n",
       "2314   32.0   182.24     131.0  23932.64         1\n",
       "3121   55.0   381.11      16.0  17962.59         0\n",
       "746    47.0   392.99       0.0  18981.92         0\n",
       "3206   76.0   586.51      54.0  14345.74         0\n",
       "2414   30.0   227.41      25.0   8503.11         0\n",
       "801    28.0   238.38       8.0  21979.19         0\n",
       "1511   60.0   413.85      38.0  20262.54         0\n",
       "1791   21.0   112.98     115.0  24994.41         1\n",
       "763    78.0   523.42      40.0  12477.65         1"
      ]
     },
     "metadata": {},
     "output_type": "display_data"
    },
    {
     "name": "stdout",
     "output_type": "stream",
     "text": [
      "<class 'pandas.core.frame.DataFrame'>\n",
      "Int64Index: 643 entries, 1415 to 1196\n",
      "Data columns (total 5 columns):\n",
      " #   Column    Non-Null Count  Dtype  \n",
      "---  ------    --------------  -----  \n",
      " 0   calls     643 non-null    float64\n",
      " 1   minutes   643 non-null    float64\n",
      " 2   messages  643 non-null    float64\n",
      " 3   mb_used   643 non-null    float64\n",
      " 4   is_ultra  643 non-null    int64  \n",
      "dtypes: float64(4), int64(1)\n",
      "memory usage: 30.1 KB\n"
     ]
    },
    {
     "data": {
      "text/html": [
       "<div>\n",
       "<style scoped>\n",
       "    .dataframe tbody tr th:only-of-type {\n",
       "        vertical-align: middle;\n",
       "    }\n",
       "\n",
       "    .dataframe tbody tr th {\n",
       "        vertical-align: top;\n",
       "    }\n",
       "\n",
       "    .dataframe thead th {\n",
       "        text-align: right;\n",
       "    }\n",
       "</style>\n",
       "<table border=\"1\" class=\"dataframe\">\n",
       "  <thead>\n",
       "    <tr style=\"text-align: right;\">\n",
       "      <th></th>\n",
       "      <th>calls</th>\n",
       "      <th>minutes</th>\n",
       "      <th>messages</th>\n",
       "      <th>mb_used</th>\n",
       "      <th>is_ultra</th>\n",
       "    </tr>\n",
       "  </thead>\n",
       "  <tbody>\n",
       "    <tr>\n",
       "      <th>353</th>\n",
       "      <td>68.0</td>\n",
       "      <td>493.00</td>\n",
       "      <td>29.0</td>\n",
       "      <td>20021.73</td>\n",
       "      <td>0</td>\n",
       "    </tr>\n",
       "    <tr>\n",
       "      <th>1298</th>\n",
       "      <td>2.0</td>\n",
       "      <td>11.96</td>\n",
       "      <td>3.0</td>\n",
       "      <td>0.00</td>\n",
       "      <td>1</td>\n",
       "    </tr>\n",
       "    <tr>\n",
       "      <th>2628</th>\n",
       "      <td>89.0</td>\n",
       "      <td>635.86</td>\n",
       "      <td>0.0</td>\n",
       "      <td>8417.03</td>\n",
       "      <td>1</td>\n",
       "    </tr>\n",
       "    <tr>\n",
       "      <th>1587</th>\n",
       "      <td>53.0</td>\n",
       "      <td>376.78</td>\n",
       "      <td>44.0</td>\n",
       "      <td>17334.12</td>\n",
       "      <td>0</td>\n",
       "    </tr>\n",
       "    <tr>\n",
       "      <th>304</th>\n",
       "      <td>90.0</td>\n",
       "      <td>707.16</td>\n",
       "      <td>50.0</td>\n",
       "      <td>19860.99</td>\n",
       "      <td>1</td>\n",
       "    </tr>\n",
       "    <tr>\n",
       "      <th>1551</th>\n",
       "      <td>74.0</td>\n",
       "      <td>555.25</td>\n",
       "      <td>27.0</td>\n",
       "      <td>25718.19</td>\n",
       "      <td>1</td>\n",
       "    </tr>\n",
       "    <tr>\n",
       "      <th>1984</th>\n",
       "      <td>43.0</td>\n",
       "      <td>311.88</td>\n",
       "      <td>65.0</td>\n",
       "      <td>13085.46</td>\n",
       "      <td>0</td>\n",
       "    </tr>\n",
       "    <tr>\n",
       "      <th>1618</th>\n",
       "      <td>48.0</td>\n",
       "      <td>322.61</td>\n",
       "      <td>73.0</td>\n",
       "      <td>18642.34</td>\n",
       "      <td>1</td>\n",
       "    </tr>\n",
       "    <tr>\n",
       "      <th>3195</th>\n",
       "      <td>44.0</td>\n",
       "      <td>322.90</td>\n",
       "      <td>48.0</td>\n",
       "      <td>20125.98</td>\n",
       "      <td>0</td>\n",
       "    </tr>\n",
       "    <tr>\n",
       "      <th>880</th>\n",
       "      <td>35.0</td>\n",
       "      <td>317.90</td>\n",
       "      <td>101.0</td>\n",
       "      <td>13118.37</td>\n",
       "      <td>0</td>\n",
       "    </tr>\n",
       "  </tbody>\n",
       "</table>\n",
       "</div>"
      ],
      "text/plain": [
       "      calls  minutes  messages   mb_used  is_ultra\n",
       "353    68.0   493.00      29.0  20021.73         0\n",
       "1298    2.0    11.96       3.0      0.00         1\n",
       "2628   89.0   635.86       0.0   8417.03         1\n",
       "1587   53.0   376.78      44.0  17334.12         0\n",
       "304    90.0   707.16      50.0  19860.99         1\n",
       "1551   74.0   555.25      27.0  25718.19         1\n",
       "1984   43.0   311.88      65.0  13085.46         0\n",
       "1618   48.0   322.61      73.0  18642.34         1\n",
       "3195   44.0   322.90      48.0  20125.98         0\n",
       "880    35.0   317.90     101.0  13118.37         0"
      ]
     },
     "metadata": {},
     "output_type": "display_data"
    },
    {
     "name": "stdout",
     "output_type": "stream",
     "text": [
      "<class 'pandas.core.frame.DataFrame'>\n",
      "Int64Index: 643 entries, 2699 to 1806\n",
      "Data columns (total 5 columns):\n",
      " #   Column    Non-Null Count  Dtype  \n",
      "---  ------    --------------  -----  \n",
      " 0   calls     643 non-null    float64\n",
      " 1   minutes   643 non-null    float64\n",
      " 2   messages  643 non-null    float64\n",
      " 3   mb_used   643 non-null    float64\n",
      " 4   is_ultra  643 non-null    int64  \n",
      "dtypes: float64(4), int64(1)\n",
      "memory usage: 30.1 KB\n"
     ]
    }
   ],
   "source": [
    "mega_train1, mega_test = train_test_split (megaline_user_data, test_size=0.20, train_size = 0.80, random_state=12345, shuffle=True)\n",
    "mega_train, mega_valid = train_test_split (mega_train1, test_size=0.25, train_size = 0.75, random_state=12345, shuffle=True)\n",
    "\n",
    "display(mega_train.sample(10))\n",
    "mega_train.info()\n",
    "display(mega_test.sample(10))\n",
    "mega_test.info()\n",
    "display(mega_valid.sample(10))\n",
    "mega_valid.info()\n",
    "\n",
    "features_train = mega_train.drop(['is_ultra'], axis=1)\n",
    "target_train = mega_train['is_ultra']\n",
    "features_valid = mega_valid.drop(['is_ultra'], axis=1)\n",
    "target_valid = mega_valid['is_ultra']\n",
    "features_test = mega_test.drop(['is_ultra'], axis=1)\n",
    "target_test = mega_test['is_ultra']\n",
    "\n"
   ]
  },
  {
   "attachments": {},
   "cell_type": "markdown",
   "metadata": {},
   "source": [
    "I split the data into three sets using the idea of a 3:1:1 model (training:validation:test) since we only have one set of data. I used the train_test_split function twice to do so since that function will only split the data into two sets."
   ]
  },
  {
   "attachments": {},
   "cell_type": "markdown",
   "metadata": {},
   "source": [
    "<h3>Investigate the quality of different models by changing hyperparameters. Briefly describe the findings of the study</h3>"
   ]
  },
  {
   "attachments": {},
   "cell_type": "markdown",
   "metadata": {},
   "source": [
    "Decision Tree Model"
   ]
  },
  {
   "cell_type": "code",
   "execution_count": 64,
   "metadata": {},
   "outputs": [
    {
     "name": "stdout",
     "output_type": "stream",
     "text": [
      "max_depth = 2 : 0.7573872472783826\n",
      "max_depth = 3 : 0.7651632970451011\n",
      "max_depth = 4 : 0.7636080870917574\n",
      "max_depth = 5 : 0.7589424572317263\n",
      "max_depth = 6 : 0.7573872472783826\n",
      "max_depth = 7 : 0.7744945567651633\n",
      "max_depth = 8 : 0.7667185069984448\n",
      "max_depth = 9 : 0.7620528771384136\n",
      "max_depth = 10 : 0.7713841368584758\n",
      "max_depth = 11 : 0.7589424572317263\n",
      "max_depth = 12 : 0.7558320373250389\n",
      "max_depth = 13 : 0.749611197511664\n",
      "max_depth = 14 : 0.7573872472783826\n",
      "max_depth = 15 : 0.7527216174183515\n"
     ]
    }
   ],
   "source": [
    "for depth in range(2, 16):\n",
    "    model = DecisionTreeClassifier(random_state=12345, max_depth=depth)\n",
    "    model.fit(features_train, target_train)\n",
    "    predictions_valid = model.predict(features_valid)\n",
    "    accurate_score = accuracy_score(target_valid, predictions_valid)\n",
    "    print('max_depth =', depth, ': ', end='')\n",
    "    print(accurate_score)\n"
   ]
  },
  {
   "attachments": {},
   "cell_type": "markdown",
   "metadata": {},
   "source": [
    "I started by investigating a range of 1-5, then 2-10, then 10-20 for the depth. The accuracy of this model seems to peak at a depth of 10, after which it drops back off again, so I set the range from 2 to 15 to encourage speed."
   ]
  },
  {
   "cell_type": "code",
   "execution_count": 65,
   "metadata": {},
   "outputs": [
    {
     "name": "stdout",
     "output_type": "stream",
     "text": [
      "0.7713841368584758\n"
     ]
    }
   ],
   "source": [
    "decision_model = DecisionTreeClassifier(random_state=12345, max_depth=10)\n",
    "decision_model.fit(features_train, target_train)\n",
    "predictions_valid = decision_model.predict(features_valid)\n",
    "accurate_score = accuracy_score(target_valid, predictions_valid)\n",
    "print(accurate_score)"
   ]
  },
  {
   "attachments": {},
   "cell_type": "markdown",
   "metadata": {},
   "source": [
    "The decision tree model peaks at an accuracy of approximately 77%. While this is higher than the hoped-for 75%, it is not hte highest that we see."
   ]
  },
  {
   "attachments": {},
   "cell_type": "markdown",
   "metadata": {},
   "source": [
    "Random Forest Model"
   ]
  },
  {
   "cell_type": "code",
   "execution_count": 66,
   "metadata": {},
   "outputs": [
    {
     "name": "stdout",
     "output_type": "stream",
     "text": [
      "Accuracy of the best model on the validation set (n_estimators = 22): 0.7931570762052877\n"
     ]
    }
   ],
   "source": [
    "best_score = 0\n",
    "best_est = 0\n",
    "\n",
    "for est in range(1, 31):\n",
    "    random_model = RandomForestClassifier(random_state=12345, n_estimators=est)\n",
    "    random_model.fit(features_train, target_train)\n",
    "    score = random_model.score(features_valid, target_valid)\n",
    "    if score > best_score:\n",
    "        best_score = score\n",
    "        best_est = est\n",
    "\n",
    "print(\"Accuracy of the best model on the validation set (n_estimators = {}): {}\".format(best_est, best_score))"
   ]
  },
  {
   "attachments": {},
   "cell_type": "markdown",
   "metadata": {},
   "source": [
    "I started by investigating a range of 1-10, then 1-20, then 10-30 for the depth. The accuracy of this model seems to peak at a depth of 22, after which it drops back off again, so I set the range from 1 to 30. It runs slowly regardless of the range, so I erred on the side of thoroughness"
   ]
  },
  {
   "cell_type": "code",
   "execution_count": 67,
   "metadata": {},
   "outputs": [
    {
     "name": "stdout",
     "output_type": "stream",
     "text": [
      "0.7931570762052877\n"
     ]
    }
   ],
   "source": [
    "final_model = RandomForestClassifier(random_state=12345, n_estimators=22) #selected based on accuracy determined above\n",
    "final_model_fit = final_model.fit(features_train, target_train)\n",
    "\n",
    "final_model_score = final_model.score(features_valid, target_valid)\n",
    "print(final_model_score)"
   ]
  },
  {
   "attachments": {},
   "cell_type": "markdown",
   "metadata": {},
   "source": [
    "This model seems to have the highest accuracy at approximately 79% with 22 estimators. "
   ]
  },
  {
   "attachments": {},
   "cell_type": "markdown",
   "metadata": {},
   "source": [
    "Logistic Regression Model"
   ]
  },
  {
   "cell_type": "code",
   "execution_count": 68,
   "metadata": {},
   "outputs": [
    {
     "name": "stdout",
     "output_type": "stream",
     "text": [
      "Accuracy of the logistic regression model on the training set: 0.7422199170124482\n",
      "Accuracy of the logistic regression model on the validation set: 0.7293934681181959\n"
     ]
    }
   ],
   "source": [
    "logistic_model =  LogisticRegression(random_state=12345, solver='liblinear')\n",
    "logistic_model.fit(features_train, target_train)\n",
    "score_train = logistic_model.score(\n",
    "    features_train, target_train \n",
    ")  \n",
    "score_valid = logistic_model.score(\n",
    "  features_valid ,target_valid\n",
    ")  \n",
    "\n",
    "print(\n",
    "    \"Accuracy of the logistic regression model on the training set:\",\n",
    "    score_train,\n",
    ")\n",
    "print(\n",
    "    \"Accuracy of the logistic regression model on the validation set:\",\n",
    "    score_valid,\n",
    ")\n"
   ]
  },
  {
   "attachments": {},
   "cell_type": "markdown",
   "metadata": {},
   "source": [
    "This model seems to have the lowest accuracy at between 72% and 74% accurate. This does not meet the threshold for this project."
   ]
  },
  {
   "attachments": {},
   "cell_type": "markdown",
   "metadata": {},
   "source": [
    "Overall, the Random Forest model seems to have the highest level of accuracy. This is the model I have chosen to use going forward."
   ]
  },
  {
   "attachments": {},
   "cell_type": "markdown",
   "metadata": {},
   "source": [
    "<h3>Check the quality of the model using the test set</h3>"
   ]
  },
  {
   "attachments": {},
   "cell_type": "markdown",
   "metadata": {},
   "source": [
    "This code checks the quality of the random forest model."
   ]
  },
  {
   "cell_type": "code",
   "execution_count": 69,
   "metadata": {},
   "outputs": [
    {
     "name": "stdout",
     "output_type": "stream",
     "text": [
      "0.9922239502332815\n"
     ]
    }
   ],
   "source": [
    "test_model = RandomForestClassifier(random_state=12345, n_estimators=22) #selected based on accuracy determined above\n",
    "test_model_fit = test_model.fit(features_test, target_test)\n",
    "\n",
    "test_model_score = test_model.score(features_test, target_test)\n",
    "print(test_model_score)"
   ]
  },
  {
   "attachments": {},
   "cell_type": "markdown",
   "metadata": {},
   "source": [
    "<h3>Additional task: sanity check the model. This data is more complex than what you’re used to working with, so it's not an easy task. We'll take a closer look at it later</h3>"
   ]
  },
  {
   "attachments": {},
   "cell_type": "markdown",
   "metadata": {},
   "source": [
    "This code uses the validation set to check the random forest model."
   ]
  },
  {
   "cell_type": "code",
   "execution_count": 70,
   "metadata": {},
   "outputs": [
    {
     "name": "stdout",
     "output_type": "stream",
     "text": [
      "0.9937791601866252\n"
     ]
    }
   ],
   "source": [
    "final_valid_model = RandomForestClassifier(random_state=12345, n_estimators=22) #selected based on accuracy determined above\n",
    "final_valid_fit = final_valid_model.fit(features_valid, target_valid)\n",
    "\n",
    "final_valid_score = final_valid_model.score(features_valid, target_valid)\n",
    "print(final_valid_score)"
   ]
  },
  {
   "attachments": {},
   "cell_type": "markdown",
   "metadata": {},
   "source": [
    "This code sanity checks the datatypes and the content of the data and checking for duplicates. By converting the calls and messages to integers, I confirmed they are all whole numbers. By converting the is_ultra column to a boolean, I confirmed all values are 1 or 0. I did not do this at first because I was unsure if it would affect the models. Calling the info() method at the beginning of the project confirmed there are no missing values. "
   ]
  },
  {
   "cell_type": "code",
   "execution_count": 71,
   "metadata": {},
   "outputs": [
    {
     "name": "stdout",
     "output_type": "stream",
     "text": [
      "0\n"
     ]
    }
   ],
   "source": [
    "print(megaline_user_data.duplicated().sum())\n",
    "megaline_user_data['calls'] = megaline_user_data['calls'].astype('int')\n",
    "megaline_user_data['messages'] = megaline_user_data['messages'].astype('int')\n",
    "megaline_user_data['is_ultra'] = megaline_user_data['is_ultra'].astype('boolean')\n",
    "\n",
    "\n"
   ]
  },
  {
   "attachments": {},
   "cell_type": "markdown",
   "metadata": {},
   "source": [
    "This code uses the validation set to check the random forest model after converting all the datatypes and checking for duplicates"
   ]
  },
  {
   "cell_type": "code",
   "execution_count": 72,
   "metadata": {},
   "outputs": [
    {
     "name": "stdout",
     "output_type": "stream",
     "text": [
      "0.9937791601866252\n"
     ]
    }
   ],
   "source": [
    "final_valid_model = RandomForestClassifier(random_state=12345, n_estimators=22) #selected based on accuracy determined above\n",
    "final_valid_fit = final_valid_model.fit(features_valid, target_valid)\n",
    "\n",
    "final_valid_score = final_valid_model.score(features_valid, target_valid)\n",
    "print(final_valid_score)"
   ]
  },
  {
   "attachments": {},
   "cell_type": "markdown",
   "metadata": {},
   "source": [
    "I am unsure what other sanity checking to complete."
   ]
  },
  {
   "attachments": {},
   "cell_type": "markdown",
   "metadata": {},
   "source": [
    "<h1>Conclusion</h1>\n",
    "Although the random forest model runs a bit more slowly, in this case, with this dataset, the difference is relatively negligible, and the accuracy is higher. I would recommend using this model going forward."
   ]
  }
 ],
 "metadata": {
  "kernelspec": {
   "display_name": "Python 3",
   "language": "python",
   "name": "python3"
  },
  "language_info": {
   "codemirror_mode": {
    "name": "ipython",
    "version": 3
   },
   "file_extension": ".py",
   "mimetype": "text/x-python",
   "name": "python",
   "nbconvert_exporter": "python",
   "pygments_lexer": "ipython3",
   "version": "3.9.13"
  },
  "orig_nbformat": 4
 },
 "nbformat": 4,
 "nbformat_minor": 2
}
