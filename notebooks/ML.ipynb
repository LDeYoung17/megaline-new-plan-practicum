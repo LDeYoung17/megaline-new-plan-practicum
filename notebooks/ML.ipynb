{
 "cells": [
  {
   "attachments": {},
   "cell_type": "markdown",
   "metadata": {},
   "source": [
    "<h1>Introduction</h1>\n",
    "Megaline is trying to predict the best model of their two new models for their legacy subscribers based on those subscribers' previous behavior. This project presents different models to do so and selects the best one based on their accuracy."
   ]
  },
  {
   "attachments": {},
   "cell_type": "markdown",
   "metadata": {},
   "source": [
    "Import statements necessary to complete project"
   ]
  },
  {
   "cell_type": "code",
   "execution_count": 77,
   "metadata": {},
   "outputs": [],
   "source": [
    "import pandas as pd\n",
    "from sklearn.linear_model import LogisticRegression\n",
    "from sklearn.ensemble import RandomForestClassifier\n",
    "from sklearn.tree import DecisionTreeClassifier\n",
    "from sklearn.metrics import accuracy_score\n",
    "from sklearn.model_selection import train_test_split\n",
    "\n"
   ]
  },
  {
   "attachments": {},
   "cell_type": "markdown",
   "metadata": {},
   "source": [
    "<h3>Open and look through the data file</h3>"
   ]
  },
  {
   "attachments": {},
   "cell_type": "markdown",
   "metadata": {},
   "source": [
    "Import data into dataframe"
   ]
  },
  {
   "cell_type": "code",
   "execution_count": 78,
   "metadata": {},
   "outputs": [],
   "source": [
    "megaline_user_data = pd.read_csv('/Users/leahdeyoung/Desktop/GitHub/megaline-new-plan-practicum/users_behavior.csv', encoding = \"utf-8\")\n"
   ]
  },
  {
   "attachments": {},
   "cell_type": "markdown",
   "metadata": {},
   "source": [
    "Display dataframe info and a random sample of 10 lines"
   ]
  },
  {
   "cell_type": "code",
   "execution_count": 79,
   "metadata": {},
   "outputs": [
    {
     "data": {
      "text/html": [
       "<div>\n",
       "<style scoped>\n",
       "    .dataframe tbody tr th:only-of-type {\n",
       "        vertical-align: middle;\n",
       "    }\n",
       "\n",
       "    .dataframe tbody tr th {\n",
       "        vertical-align: top;\n",
       "    }\n",
       "\n",
       "    .dataframe thead th {\n",
       "        text-align: right;\n",
       "    }\n",
       "</style>\n",
       "<table border=\"1\" class=\"dataframe\">\n",
       "  <thead>\n",
       "    <tr style=\"text-align: right;\">\n",
       "      <th></th>\n",
       "      <th>calls</th>\n",
       "      <th>minutes</th>\n",
       "      <th>messages</th>\n",
       "      <th>mb_used</th>\n",
       "      <th>is_ultra</th>\n",
       "    </tr>\n",
       "  </thead>\n",
       "  <tbody>\n",
       "    <tr>\n",
       "      <th>2004</th>\n",
       "      <td>59.0</td>\n",
       "      <td>452.15</td>\n",
       "      <td>47.0</td>\n",
       "      <td>13053.02</td>\n",
       "      <td>0</td>\n",
       "    </tr>\n",
       "    <tr>\n",
       "      <th>1167</th>\n",
       "      <td>90.0</td>\n",
       "      <td>656.91</td>\n",
       "      <td>49.0</td>\n",
       "      <td>17636.40</td>\n",
       "      <td>0</td>\n",
       "    </tr>\n",
       "    <tr>\n",
       "      <th>2162</th>\n",
       "      <td>31.0</td>\n",
       "      <td>176.00</td>\n",
       "      <td>48.0</td>\n",
       "      <td>25040.63</td>\n",
       "      <td>0</td>\n",
       "    </tr>\n",
       "    <tr>\n",
       "      <th>1422</th>\n",
       "      <td>99.0</td>\n",
       "      <td>705.18</td>\n",
       "      <td>24.0</td>\n",
       "      <td>19813.35</td>\n",
       "      <td>0</td>\n",
       "    </tr>\n",
       "    <tr>\n",
       "      <th>217</th>\n",
       "      <td>57.0</td>\n",
       "      <td>373.01</td>\n",
       "      <td>0.0</td>\n",
       "      <td>13759.77</td>\n",
       "      <td>0</td>\n",
       "    </tr>\n",
       "    <tr>\n",
       "      <th>1002</th>\n",
       "      <td>35.0</td>\n",
       "      <td>197.96</td>\n",
       "      <td>45.0</td>\n",
       "      <td>21425.84</td>\n",
       "      <td>0</td>\n",
       "    </tr>\n",
       "    <tr>\n",
       "      <th>1579</th>\n",
       "      <td>24.0</td>\n",
       "      <td>163.75</td>\n",
       "      <td>0.0</td>\n",
       "      <td>14226.81</td>\n",
       "      <td>1</td>\n",
       "    </tr>\n",
       "    <tr>\n",
       "      <th>1164</th>\n",
       "      <td>37.0</td>\n",
       "      <td>267.39</td>\n",
       "      <td>0.0</td>\n",
       "      <td>15195.95</td>\n",
       "      <td>0</td>\n",
       "    </tr>\n",
       "    <tr>\n",
       "      <th>3165</th>\n",
       "      <td>79.0</td>\n",
       "      <td>505.50</td>\n",
       "      <td>105.0</td>\n",
       "      <td>12406.00</td>\n",
       "      <td>0</td>\n",
       "    </tr>\n",
       "    <tr>\n",
       "      <th>457</th>\n",
       "      <td>99.0</td>\n",
       "      <td>642.81</td>\n",
       "      <td>45.0</td>\n",
       "      <td>10187.06</td>\n",
       "      <td>1</td>\n",
       "    </tr>\n",
       "  </tbody>\n",
       "</table>\n",
       "</div>"
      ],
      "text/plain": [
       "      calls  minutes  messages   mb_used  is_ultra\n",
       "2004   59.0   452.15      47.0  13053.02         0\n",
       "1167   90.0   656.91      49.0  17636.40         0\n",
       "2162   31.0   176.00      48.0  25040.63         0\n",
       "1422   99.0   705.18      24.0  19813.35         0\n",
       "217    57.0   373.01       0.0  13759.77         0\n",
       "1002   35.0   197.96      45.0  21425.84         0\n",
       "1579   24.0   163.75       0.0  14226.81         1\n",
       "1164   37.0   267.39       0.0  15195.95         0\n",
       "3165   79.0   505.50     105.0  12406.00         0\n",
       "457    99.0   642.81      45.0  10187.06         1"
      ]
     },
     "metadata": {},
     "output_type": "display_data"
    },
    {
     "name": "stdout",
     "output_type": "stream",
     "text": [
      "<class 'pandas.core.frame.DataFrame'>\n",
      "RangeIndex: 3214 entries, 0 to 3213\n",
      "Data columns (total 5 columns):\n",
      " #   Column    Non-Null Count  Dtype  \n",
      "---  ------    --------------  -----  \n",
      " 0   calls     3214 non-null   float64\n",
      " 1   minutes   3214 non-null   float64\n",
      " 2   messages  3214 non-null   float64\n",
      " 3   mb_used   3214 non-null   float64\n",
      " 4   is_ultra  3214 non-null   int64  \n",
      "dtypes: float64(4), int64(1)\n",
      "memory usage: 125.7 KB\n"
     ]
    }
   ],
   "source": [
    "display(megaline_user_data.sample(10))\n",
    "megaline_user_data.info()"
   ]
  },
  {
   "attachments": {},
   "cell_type": "markdown",
   "metadata": {},
   "source": [
    "<h3>Split the source data into a training set, a validation set, and a test set</h3>"
   ]
  },
  {
   "cell_type": "code",
   "execution_count": 80,
   "metadata": {},
   "outputs": [
    {
     "data": {
      "text/html": [
       "<div>\n",
       "<style scoped>\n",
       "    .dataframe tbody tr th:only-of-type {\n",
       "        vertical-align: middle;\n",
       "    }\n",
       "\n",
       "    .dataframe tbody tr th {\n",
       "        vertical-align: top;\n",
       "    }\n",
       "\n",
       "    .dataframe thead th {\n",
       "        text-align: right;\n",
       "    }\n",
       "</style>\n",
       "<table border=\"1\" class=\"dataframe\">\n",
       "  <thead>\n",
       "    <tr style=\"text-align: right;\">\n",
       "      <th></th>\n",
       "      <th>calls</th>\n",
       "      <th>minutes</th>\n",
       "      <th>messages</th>\n",
       "      <th>mb_used</th>\n",
       "      <th>is_ultra</th>\n",
       "    </tr>\n",
       "  </thead>\n",
       "  <tbody>\n",
       "    <tr>\n",
       "      <th>1181</th>\n",
       "      <td>141.0</td>\n",
       "      <td>1043.89</td>\n",
       "      <td>22.0</td>\n",
       "      <td>32651.11</td>\n",
       "      <td>0</td>\n",
       "    </tr>\n",
       "    <tr>\n",
       "      <th>461</th>\n",
       "      <td>176.0</td>\n",
       "      <td>1167.79</td>\n",
       "      <td>48.0</td>\n",
       "      <td>32441.14</td>\n",
       "      <td>1</td>\n",
       "    </tr>\n",
       "    <tr>\n",
       "      <th>410</th>\n",
       "      <td>33.0</td>\n",
       "      <td>220.24</td>\n",
       "      <td>15.0</td>\n",
       "      <td>6547.66</td>\n",
       "      <td>0</td>\n",
       "    </tr>\n",
       "    <tr>\n",
       "      <th>2002</th>\n",
       "      <td>34.0</td>\n",
       "      <td>274.53</td>\n",
       "      <td>13.0</td>\n",
       "      <td>5762.76</td>\n",
       "      <td>0</td>\n",
       "    </tr>\n",
       "    <tr>\n",
       "      <th>2299</th>\n",
       "      <td>45.0</td>\n",
       "      <td>316.49</td>\n",
       "      <td>46.0</td>\n",
       "      <td>21354.67</td>\n",
       "      <td>1</td>\n",
       "    </tr>\n",
       "    <tr>\n",
       "      <th>2471</th>\n",
       "      <td>9.0</td>\n",
       "      <td>44.51</td>\n",
       "      <td>12.0</td>\n",
       "      <td>4829.62</td>\n",
       "      <td>0</td>\n",
       "    </tr>\n",
       "    <tr>\n",
       "      <th>307</th>\n",
       "      <td>54.0</td>\n",
       "      <td>312.85</td>\n",
       "      <td>10.0</td>\n",
       "      <td>7798.27</td>\n",
       "      <td>0</td>\n",
       "    </tr>\n",
       "    <tr>\n",
       "      <th>1780</th>\n",
       "      <td>73.0</td>\n",
       "      <td>419.90</td>\n",
       "      <td>0.0</td>\n",
       "      <td>18521.67</td>\n",
       "      <td>0</td>\n",
       "    </tr>\n",
       "    <tr>\n",
       "      <th>2630</th>\n",
       "      <td>56.0</td>\n",
       "      <td>418.38</td>\n",
       "      <td>13.0</td>\n",
       "      <td>18383.56</td>\n",
       "      <td>0</td>\n",
       "    </tr>\n",
       "    <tr>\n",
       "      <th>77</th>\n",
       "      <td>1.0</td>\n",
       "      <td>1.00</td>\n",
       "      <td>153.0</td>\n",
       "      <td>22753.12</td>\n",
       "      <td>1</td>\n",
       "    </tr>\n",
       "  </tbody>\n",
       "</table>\n",
       "</div>"
      ],
      "text/plain": [
       "      calls  minutes  messages   mb_used  is_ultra\n",
       "1181  141.0  1043.89      22.0  32651.11         0\n",
       "461   176.0  1167.79      48.0  32441.14         1\n",
       "410    33.0   220.24      15.0   6547.66         0\n",
       "2002   34.0   274.53      13.0   5762.76         0\n",
       "2299   45.0   316.49      46.0  21354.67         1\n",
       "2471    9.0    44.51      12.0   4829.62         0\n",
       "307    54.0   312.85      10.0   7798.27         0\n",
       "1780   73.0   419.90       0.0  18521.67         0\n",
       "2630   56.0   418.38      13.0  18383.56         0\n",
       "77      1.0     1.00     153.0  22753.12         1"
      ]
     },
     "metadata": {},
     "output_type": "display_data"
    },
    {
     "name": "stdout",
     "output_type": "stream",
     "text": [
      "<class 'pandas.core.frame.DataFrame'>\n",
      "Int64Index: 1928 entries, 2656 to 510\n",
      "Data columns (total 5 columns):\n",
      " #   Column    Non-Null Count  Dtype  \n",
      "---  ------    --------------  -----  \n",
      " 0   calls     1928 non-null   float64\n",
      " 1   minutes   1928 non-null   float64\n",
      " 2   messages  1928 non-null   float64\n",
      " 3   mb_used   1928 non-null   float64\n",
      " 4   is_ultra  1928 non-null   int64  \n",
      "dtypes: float64(4), int64(1)\n",
      "memory usage: 90.4 KB\n"
     ]
    },
    {
     "data": {
      "text/html": [
       "<div>\n",
       "<style scoped>\n",
       "    .dataframe tbody tr th:only-of-type {\n",
       "        vertical-align: middle;\n",
       "    }\n",
       "\n",
       "    .dataframe tbody tr th {\n",
       "        vertical-align: top;\n",
       "    }\n",
       "\n",
       "    .dataframe thead th {\n",
       "        text-align: right;\n",
       "    }\n",
       "</style>\n",
       "<table border=\"1\" class=\"dataframe\">\n",
       "  <thead>\n",
       "    <tr style=\"text-align: right;\">\n",
       "      <th></th>\n",
       "      <th>calls</th>\n",
       "      <th>minutes</th>\n",
       "      <th>messages</th>\n",
       "      <th>mb_used</th>\n",
       "      <th>is_ultra</th>\n",
       "    </tr>\n",
       "  </thead>\n",
       "  <tbody>\n",
       "    <tr>\n",
       "      <th>174</th>\n",
       "      <td>65.0</td>\n",
       "      <td>442.65</td>\n",
       "      <td>72.0</td>\n",
       "      <td>32950.36</td>\n",
       "      <td>1</td>\n",
       "    </tr>\n",
       "    <tr>\n",
       "      <th>869</th>\n",
       "      <td>69.0</td>\n",
       "      <td>482.18</td>\n",
       "      <td>40.0</td>\n",
       "      <td>11178.07</td>\n",
       "      <td>1</td>\n",
       "    </tr>\n",
       "    <tr>\n",
       "      <th>3065</th>\n",
       "      <td>91.0</td>\n",
       "      <td>610.31</td>\n",
       "      <td>46.0</td>\n",
       "      <td>23953.48</td>\n",
       "      <td>0</td>\n",
       "    </tr>\n",
       "    <tr>\n",
       "      <th>3057</th>\n",
       "      <td>59.0</td>\n",
       "      <td>381.49</td>\n",
       "      <td>47.0</td>\n",
       "      <td>17272.81</td>\n",
       "      <td>0</td>\n",
       "    </tr>\n",
       "    <tr>\n",
       "      <th>2537</th>\n",
       "      <td>97.0</td>\n",
       "      <td>788.48</td>\n",
       "      <td>0.0</td>\n",
       "      <td>23525.63</td>\n",
       "      <td>1</td>\n",
       "    </tr>\n",
       "    <tr>\n",
       "      <th>1023</th>\n",
       "      <td>76.0</td>\n",
       "      <td>601.10</td>\n",
       "      <td>0.0</td>\n",
       "      <td>17104.36</td>\n",
       "      <td>0</td>\n",
       "    </tr>\n",
       "    <tr>\n",
       "      <th>724</th>\n",
       "      <td>30.0</td>\n",
       "      <td>204.00</td>\n",
       "      <td>87.0</td>\n",
       "      <td>14152.16</td>\n",
       "      <td>0</td>\n",
       "    </tr>\n",
       "    <tr>\n",
       "      <th>2510</th>\n",
       "      <td>63.0</td>\n",
       "      <td>508.70</td>\n",
       "      <td>21.0</td>\n",
       "      <td>19254.67</td>\n",
       "      <td>1</td>\n",
       "    </tr>\n",
       "    <tr>\n",
       "      <th>1651</th>\n",
       "      <td>58.0</td>\n",
       "      <td>408.53</td>\n",
       "      <td>2.0</td>\n",
       "      <td>15346.04</td>\n",
       "      <td>0</td>\n",
       "    </tr>\n",
       "    <tr>\n",
       "      <th>1919</th>\n",
       "      <td>49.0</td>\n",
       "      <td>294.37</td>\n",
       "      <td>39.0</td>\n",
       "      <td>19406.60</td>\n",
       "      <td>0</td>\n",
       "    </tr>\n",
       "  </tbody>\n",
       "</table>\n",
       "</div>"
      ],
      "text/plain": [
       "      calls  minutes  messages   mb_used  is_ultra\n",
       "174    65.0   442.65      72.0  32950.36         1\n",
       "869    69.0   482.18      40.0  11178.07         1\n",
       "3065   91.0   610.31      46.0  23953.48         0\n",
       "3057   59.0   381.49      47.0  17272.81         0\n",
       "2537   97.0   788.48       0.0  23525.63         1\n",
       "1023   76.0   601.10       0.0  17104.36         0\n",
       "724    30.0   204.00      87.0  14152.16         0\n",
       "2510   63.0   508.70      21.0  19254.67         1\n",
       "1651   58.0   408.53       2.0  15346.04         0\n",
       "1919   49.0   294.37      39.0  19406.60         0"
      ]
     },
     "metadata": {},
     "output_type": "display_data"
    },
    {
     "name": "stdout",
     "output_type": "stream",
     "text": [
      "<class 'pandas.core.frame.DataFrame'>\n",
      "Int64Index: 643 entries, 1415 to 1196\n",
      "Data columns (total 5 columns):\n",
      " #   Column    Non-Null Count  Dtype  \n",
      "---  ------    --------------  -----  \n",
      " 0   calls     643 non-null    float64\n",
      " 1   minutes   643 non-null    float64\n",
      " 2   messages  643 non-null    float64\n",
      " 3   mb_used   643 non-null    float64\n",
      " 4   is_ultra  643 non-null    int64  \n",
      "dtypes: float64(4), int64(1)\n",
      "memory usage: 30.1 KB\n"
     ]
    },
    {
     "data": {
      "text/html": [
       "<div>\n",
       "<style scoped>\n",
       "    .dataframe tbody tr th:only-of-type {\n",
       "        vertical-align: middle;\n",
       "    }\n",
       "\n",
       "    .dataframe tbody tr th {\n",
       "        vertical-align: top;\n",
       "    }\n",
       "\n",
       "    .dataframe thead th {\n",
       "        text-align: right;\n",
       "    }\n",
       "</style>\n",
       "<table border=\"1\" class=\"dataframe\">\n",
       "  <thead>\n",
       "    <tr style=\"text-align: right;\">\n",
       "      <th></th>\n",
       "      <th>calls</th>\n",
       "      <th>minutes</th>\n",
       "      <th>messages</th>\n",
       "      <th>mb_used</th>\n",
       "      <th>is_ultra</th>\n",
       "    </tr>\n",
       "  </thead>\n",
       "  <tbody>\n",
       "    <tr>\n",
       "      <th>978</th>\n",
       "      <td>66.0</td>\n",
       "      <td>443.83</td>\n",
       "      <td>0.0</td>\n",
       "      <td>17672.29</td>\n",
       "      <td>0</td>\n",
       "    </tr>\n",
       "    <tr>\n",
       "      <th>418</th>\n",
       "      <td>15.0</td>\n",
       "      <td>96.36</td>\n",
       "      <td>3.0</td>\n",
       "      <td>2827.29</td>\n",
       "      <td>0</td>\n",
       "    </tr>\n",
       "    <tr>\n",
       "      <th>490</th>\n",
       "      <td>56.0</td>\n",
       "      <td>334.29</td>\n",
       "      <td>82.0</td>\n",
       "      <td>21969.01</td>\n",
       "      <td>0</td>\n",
       "    </tr>\n",
       "    <tr>\n",
       "      <th>3166</th>\n",
       "      <td>71.0</td>\n",
       "      <td>506.27</td>\n",
       "      <td>98.0</td>\n",
       "      <td>19864.42</td>\n",
       "      <td>0</td>\n",
       "    </tr>\n",
       "    <tr>\n",
       "      <th>713</th>\n",
       "      <td>178.0</td>\n",
       "      <td>1354.75</td>\n",
       "      <td>10.0</td>\n",
       "      <td>4880.62</td>\n",
       "      <td>1</td>\n",
       "    </tr>\n",
       "    <tr>\n",
       "      <th>986</th>\n",
       "      <td>65.0</td>\n",
       "      <td>474.16</td>\n",
       "      <td>3.0</td>\n",
       "      <td>15983.41</td>\n",
       "      <td>1</td>\n",
       "    </tr>\n",
       "    <tr>\n",
       "      <th>301</th>\n",
       "      <td>62.0</td>\n",
       "      <td>404.81</td>\n",
       "      <td>78.0</td>\n",
       "      <td>16948.05</td>\n",
       "      <td>0</td>\n",
       "    </tr>\n",
       "    <tr>\n",
       "      <th>1943</th>\n",
       "      <td>85.0</td>\n",
       "      <td>570.68</td>\n",
       "      <td>85.0</td>\n",
       "      <td>13052.67</td>\n",
       "      <td>0</td>\n",
       "    </tr>\n",
       "    <tr>\n",
       "      <th>1814</th>\n",
       "      <td>41.0</td>\n",
       "      <td>273.09</td>\n",
       "      <td>8.0</td>\n",
       "      <td>25761.38</td>\n",
       "      <td>0</td>\n",
       "    </tr>\n",
       "    <tr>\n",
       "      <th>1564</th>\n",
       "      <td>42.0</td>\n",
       "      <td>280.21</td>\n",
       "      <td>0.0</td>\n",
       "      <td>19316.23</td>\n",
       "      <td>0</td>\n",
       "    </tr>\n",
       "  </tbody>\n",
       "</table>\n",
       "</div>"
      ],
      "text/plain": [
       "      calls  minutes  messages   mb_used  is_ultra\n",
       "978    66.0   443.83       0.0  17672.29         0\n",
       "418    15.0    96.36       3.0   2827.29         0\n",
       "490    56.0   334.29      82.0  21969.01         0\n",
       "3166   71.0   506.27      98.0  19864.42         0\n",
       "713   178.0  1354.75      10.0   4880.62         1\n",
       "986    65.0   474.16       3.0  15983.41         1\n",
       "301    62.0   404.81      78.0  16948.05         0\n",
       "1943   85.0   570.68      85.0  13052.67         0\n",
       "1814   41.0   273.09       8.0  25761.38         0\n",
       "1564   42.0   280.21       0.0  19316.23         0"
      ]
     },
     "metadata": {},
     "output_type": "display_data"
    },
    {
     "name": "stdout",
     "output_type": "stream",
     "text": [
      "<class 'pandas.core.frame.DataFrame'>\n",
      "Int64Index: 643 entries, 2699 to 1806\n",
      "Data columns (total 5 columns):\n",
      " #   Column    Non-Null Count  Dtype  \n",
      "---  ------    --------------  -----  \n",
      " 0   calls     643 non-null    float64\n",
      " 1   minutes   643 non-null    float64\n",
      " 2   messages  643 non-null    float64\n",
      " 3   mb_used   643 non-null    float64\n",
      " 4   is_ultra  643 non-null    int64  \n",
      "dtypes: float64(4), int64(1)\n",
      "memory usage: 30.1 KB\n"
     ]
    }
   ],
   "source": [
    "mega_train1, mega_test = train_test_split (megaline_user_data, test_size=0.20, train_size = 0.80, random_state=12345, shuffle=True)\n",
    "mega_train, mega_valid = train_test_split (mega_train1, test_size=0.25, train_size = 0.75, random_state=12345, shuffle=True)\n",
    "\n",
    "display(mega_train.sample(10))\n",
    "mega_train.info()\n",
    "display(mega_test.sample(10))\n",
    "mega_test.info()\n",
    "display(mega_valid.sample(10))\n",
    "mega_valid.info()\n",
    "\n",
    "features_train = mega_train.drop(['is_ultra'], axis=1)\n",
    "target_train = mega_train['is_ultra']\n",
    "features_valid = mega_valid.drop(['is_ultra'], axis=1)\n",
    "target_valid = mega_valid['is_ultra']\n",
    "features_test = mega_test.drop(['is_ultra'], axis=1)\n",
    "target_test = mega_test['is_ultra']\n",
    "\n"
   ]
  },
  {
   "attachments": {},
   "cell_type": "markdown",
   "metadata": {},
   "source": [
    "I split the data into three sets using the idea of a 3:1:1 model (training:validation:test) since we only have one set of data. I used the train_test_split function twice to do so since that function will only split the data into two sets."
   ]
  },
  {
   "attachments": {},
   "cell_type": "markdown",
   "metadata": {},
   "source": [
    "<h3>Investigate the quality of different models by changing hyperparameters. Briefly describe the findings of the study</h3>"
   ]
  },
  {
   "attachments": {},
   "cell_type": "markdown",
   "metadata": {},
   "source": [
    "Decision Tree Model"
   ]
  },
  {
   "cell_type": "code",
   "execution_count": 81,
   "metadata": {},
   "outputs": [
    {
     "name": "stdout",
     "output_type": "stream",
     "text": [
      "max_depth = 2 : 0.7573872472783826\n",
      "max_depth = 3 : 0.7651632970451011\n",
      "max_depth = 4 : 0.7636080870917574\n",
      "max_depth = 5 : 0.7589424572317263\n",
      "max_depth = 6 : 0.7573872472783826\n",
      "max_depth = 7 : 0.7744945567651633\n",
      "max_depth = 8 : 0.7667185069984448\n",
      "max_depth = 9 : 0.7620528771384136\n",
      "max_depth = 10 : 0.7713841368584758\n",
      "max_depth = 11 : 0.7589424572317263\n",
      "max_depth = 12 : 0.7558320373250389\n",
      "max_depth = 13 : 0.749611197511664\n",
      "max_depth = 14 : 0.7573872472783826\n",
      "max_depth = 15 : 0.7527216174183515\n"
     ]
    }
   ],
   "source": [
    "for depth in range(2, 16):\n",
    "    model = DecisionTreeClassifier(random_state=12345, max_depth=depth)\n",
    "    model.fit(features_train, target_train)\n",
    "    predictions_valid = model.predict(features_valid)\n",
    "    accurate_score = accuracy_score(target_valid, predictions_valid)\n",
    "    print('max_depth =', depth, ': ', end='')\n",
    "    print(accurate_score)\n"
   ]
  },
  {
   "attachments": {},
   "cell_type": "markdown",
   "metadata": {},
   "source": [
    "I started by investigating a range of 1-5, then 2-10, then 10-20 for the depth. The accuracy of this model seems to peak at a depth of 10, after which it drops back off again, so I set the range from 2 to 15 to encourage speed."
   ]
  },
  {
   "cell_type": "code",
   "execution_count": 82,
   "metadata": {},
   "outputs": [
    {
     "name": "stdout",
     "output_type": "stream",
     "text": [
      "0.7713841368584758\n"
     ]
    }
   ],
   "source": [
    "decision_model = DecisionTreeClassifier(random_state=12345, max_depth=10)\n",
    "decision_model.fit(features_train, target_train)\n",
    "predictions_valid = decision_model.predict(features_valid)\n",
    "accurate_score = accuracy_score(target_valid, predictions_valid)\n",
    "print(accurate_score)"
   ]
  },
  {
   "attachments": {},
   "cell_type": "markdown",
   "metadata": {},
   "source": [
    "The decision tree model peaks at an accuracy of approximately 77%. While this is higher than the hoped-for 75%, it is not hte highest that we see."
   ]
  },
  {
   "attachments": {},
   "cell_type": "markdown",
   "metadata": {},
   "source": [
    "Random Forest Model"
   ]
  },
  {
   "cell_type": "code",
   "execution_count": 83,
   "metadata": {},
   "outputs": [
    {
     "name": "stdout",
     "output_type": "stream",
     "text": [
      "Accuracy of the best model on the validation set (n_estimators = 22): 0.7931570762052877\n"
     ]
    }
   ],
   "source": [
    "best_score = 0\n",
    "best_est = 0\n",
    "\n",
    "for est in range(1, 31):\n",
    "    random_model = RandomForestClassifier(random_state=12345, n_estimators=est)\n",
    "    random_model.fit(features_train, target_train)\n",
    "    score = random_model.score(features_valid, target_valid)\n",
    "    if score > best_score:\n",
    "        best_score = score\n",
    "        best_est = est\n",
    "\n",
    "print(\"Accuracy of the best model on the validation set (n_estimators = {}): {}\".format(best_est, best_score))"
   ]
  },
  {
   "attachments": {},
   "cell_type": "markdown",
   "metadata": {},
   "source": [
    "I started by investigating a range of 1-10, then 1-20, then 10-30 for the depth. The accuracy of this model seems to peak at a depth of 22, after which it drops back off again, so I set the range from 1 to 30. It runs slowly regardless of the range, so I erred on the side of thoroughness"
   ]
  },
  {
   "cell_type": "code",
   "execution_count": 84,
   "metadata": {},
   "outputs": [
    {
     "name": "stdout",
     "output_type": "stream",
     "text": [
      "0.7931570762052877\n"
     ]
    }
   ],
   "source": [
    "final_model = RandomForestClassifier(random_state=12345, n_estimators=22) #selected based on accuracy determined above\n",
    "final_model_fit = final_model.fit(features_train, target_train)\n",
    "\n",
    "final_model_score = final_model.score(features_valid, target_valid)\n",
    "print(final_model_score)"
   ]
  },
  {
   "attachments": {},
   "cell_type": "markdown",
   "metadata": {},
   "source": [
    "This model seems to have the highest accuracy at approximately 79% with 22 estimators. "
   ]
  },
  {
   "attachments": {},
   "cell_type": "markdown",
   "metadata": {},
   "source": [
    "Logistic Regression Model"
   ]
  },
  {
   "cell_type": "code",
   "execution_count": 85,
   "metadata": {},
   "outputs": [
    {
     "name": "stdout",
     "output_type": "stream",
     "text": [
      "Accuracy of the logistic regression model on the training set: 0.7422199170124482\n",
      "Accuracy of the logistic regression model on the validation set: 0.7293934681181959\n"
     ]
    }
   ],
   "source": [
    "logistic_model =  LogisticRegression(random_state=12345, solver='liblinear')\n",
    "logistic_model.fit(features_train, target_train)\n",
    "score_train = logistic_model.score(\n",
    "    features_train, target_train \n",
    ")  \n",
    "score_valid = logistic_model.score(\n",
    "  features_valid ,target_valid\n",
    ")  \n",
    "\n",
    "print(\n",
    "    \"Accuracy of the logistic regression model on the training set:\",\n",
    "    score_train,\n",
    ")\n",
    "print(\n",
    "    \"Accuracy of the logistic regression model on the validation set:\",\n",
    "    score_valid,\n",
    ")\n"
   ]
  },
  {
   "attachments": {},
   "cell_type": "markdown",
   "metadata": {},
   "source": [
    "This model seems to have the lowest accuracy at between 72% and 74% accurate. This does not meet the threshold for this project."
   ]
  },
  {
   "attachments": {},
   "cell_type": "markdown",
   "metadata": {},
   "source": [
    "Overall, the Random Forest model seems to have the highest level of accuracy. This is the model I have chosen to use going forward."
   ]
  },
  {
   "attachments": {},
   "cell_type": "markdown",
   "metadata": {},
   "source": [
    "<h3>Check the quality of the model using the test set</h3>"
   ]
  },
  {
   "attachments": {},
   "cell_type": "markdown",
   "metadata": {},
   "source": [
    "This code checks the quality of the random forest model."
   ]
  },
  {
   "cell_type": "code",
   "execution_count": 86,
   "metadata": {},
   "outputs": [
    {
     "name": "stdout",
     "output_type": "stream",
     "text": [
      "Accuracy: 0.7838258164852255\n"
     ]
    }
   ],
   "source": [
    "test_model = RandomForestClassifier(random_state=12345, n_estimators=22) #selected based on accuracy determined above\n",
    "test_model_fit = test_model.fit(features_train, target_train)\n",
    "\n",
    "predictions_test = test_model.predict(features_test)\n",
    "target_test = target_test.reset_index(drop=True)\n",
    "\n",
    "correct = 0\n",
    "for i in range(len(target_test)):\n",
    "    if target_test[i] == predictions_test[i]:\n",
    "        correct += 1\n",
    "accuracy = correct / len(target_test)\n",
    "\n",
    "print('Accuracy:', accuracy)"
   ]
  },
  {
   "attachments": {},
   "cell_type": "markdown",
   "metadata": {},
   "source": [
    "<h3>Additional task: sanity check the model. This data is more complex than what you’re used to working with, so it's not an easy task. We'll take a closer look at it later</h3>"
   ]
  },
  {
   "attachments": {},
   "cell_type": "markdown",
   "metadata": {},
   "source": [
    "This code uses the validation set to check the random forest model."
   ]
  },
  {
   "cell_type": "code",
   "execution_count": 87,
   "metadata": {},
   "outputs": [
    {
     "name": "stdout",
     "output_type": "stream",
     "text": [
      "Accuracy\n",
      "Training set: 0.9953319502074689\n",
      "Test set: 0.7838258164852255\n"
     ]
    }
   ],
   "source": [
    "train_model = RandomForestClassifier(random_state=12345, n_estimators=22) #selected based on accuracy determined above\n",
    "train_model_fit = train_model.fit(features_train, target_train)\n",
    "predictions_train = train_model.predict(features_train)\n",
    "\n",
    "print('Accuracy')\n",
    "print('Training set:', accuracy_score(target_train, predictions_train))\n",
    "print('Test set:', accuracy_score(target_test, predictions_test))"
   ]
  },
  {
   "attachments": {},
   "cell_type": "markdown",
   "metadata": {},
   "source": [
    "This code sanity checks the datatypes and the content of the data and checking for duplicates. By converting the calls and messages to integers, I confirmed they are all whole numbers. By converting the is_ultra column to a boolean, I confirmed all values are 1 or 0. I did not do this at first because I was unsure if it would affect the models. Calling the info() method at the beginning of the project confirmed there are no missing values. "
   ]
  },
  {
   "cell_type": "code",
   "execution_count": 88,
   "metadata": {},
   "outputs": [
    {
     "name": "stdout",
     "output_type": "stream",
     "text": [
      "0\n"
     ]
    }
   ],
   "source": [
    "print(megaline_user_data.duplicated().sum())\n",
    "megaline_user_data['calls'] = megaline_user_data['calls'].astype('int')\n",
    "megaline_user_data['messages'] = megaline_user_data['messages'].astype('int')\n",
    "megaline_user_data['is_ultra'] = megaline_user_data['is_ultra'].astype('boolean')\n",
    "\n",
    "\n"
   ]
  },
  {
   "attachments": {},
   "cell_type": "markdown",
   "metadata": {},
   "source": [
    "<h1>Conclusion</h1>\n",
    "Although the random forest model runs a bit more slowly, in this case, with this dataset, the difference is relatively negligible, and the accuracy is higher. I would recommend using this model going forward."
   ]
  }
 ],
 "metadata": {
  "kernelspec": {
   "display_name": "Python 3",
   "language": "python",
   "name": "python3"
  },
  "language_info": {
   "codemirror_mode": {
    "name": "ipython",
    "version": 3
   },
   "file_extension": ".py",
   "mimetype": "text/x-python",
   "name": "python",
   "nbconvert_exporter": "python",
   "pygments_lexer": "ipython3",
   "version": "3.9.13"
  },
  "orig_nbformat": 4
 },
 "nbformat": 4,
 "nbformat_minor": 2
}
