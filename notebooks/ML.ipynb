{
 "cells": [
  {
   "cell_type": "code",
   "execution_count": null,
   "metadata": {},
   "outputs": [],
   "source": []
  },
  {
   "attachments": {},
   "cell_type": "markdown",
   "metadata": {},
   "source": [
    "Import statements necessary to complete project"
   ]
  },
  {
   "cell_type": "code",
   "execution_count": 42,
   "metadata": {},
   "outputs": [],
   "source": [
    "import pandas as pd\n",
    "from sklearn.linear_model import LogisticRegression\n",
    "from sklearn.ensemble import RandomForestClassifier\n",
    "from sklearn.tree import DecisionTreeClassifier\n",
    "from sklearn.metrics import accuracy_score\n",
    "from sklearn.model_selection import train_test_split\n",
    "\n"
   ]
  },
  {
   "attachments": {},
   "cell_type": "markdown",
   "metadata": {},
   "source": [
    "1. Open and look through the data file."
   ]
  },
  {
   "attachments": {},
   "cell_type": "markdown",
   "metadata": {},
   "source": [
    "Import data into dataframe"
   ]
  },
  {
   "cell_type": "code",
   "execution_count": 43,
   "metadata": {},
   "outputs": [],
   "source": [
    "megaline_user_data = pd.read_csv('/Users/leahdeyoung/Desktop/GitHub/megaline-new-plan-practicum/users_behavior.csv', encoding = \"utf-8\")\n"
   ]
  },
  {
   "attachments": {},
   "cell_type": "markdown",
   "metadata": {},
   "source": [
    "Display dataframe info and first five lines"
   ]
  },
  {
   "cell_type": "code",
   "execution_count": 44,
   "metadata": {},
   "outputs": [
    {
     "data": {
      "text/html": [
       "<div>\n",
       "<style scoped>\n",
       "    .dataframe tbody tr th:only-of-type {\n",
       "        vertical-align: middle;\n",
       "    }\n",
       "\n",
       "    .dataframe tbody tr th {\n",
       "        vertical-align: top;\n",
       "    }\n",
       "\n",
       "    .dataframe thead th {\n",
       "        text-align: right;\n",
       "    }\n",
       "</style>\n",
       "<table border=\"1\" class=\"dataframe\">\n",
       "  <thead>\n",
       "    <tr style=\"text-align: right;\">\n",
       "      <th></th>\n",
       "      <th>calls</th>\n",
       "      <th>minutes</th>\n",
       "      <th>messages</th>\n",
       "      <th>mb_used</th>\n",
       "      <th>is_ultra</th>\n",
       "    </tr>\n",
       "  </thead>\n",
       "  <tbody>\n",
       "    <tr>\n",
       "      <th>2686</th>\n",
       "      <td>32.0</td>\n",
       "      <td>218.95</td>\n",
       "      <td>0.0</td>\n",
       "      <td>36180.51</td>\n",
       "      <td>1</td>\n",
       "    </tr>\n",
       "    <tr>\n",
       "      <th>872</th>\n",
       "      <td>88.0</td>\n",
       "      <td>581.50</td>\n",
       "      <td>85.0</td>\n",
       "      <td>16127.19</td>\n",
       "      <td>0</td>\n",
       "    </tr>\n",
       "    <tr>\n",
       "      <th>805</th>\n",
       "      <td>40.0</td>\n",
       "      <td>232.35</td>\n",
       "      <td>37.0</td>\n",
       "      <td>13941.60</td>\n",
       "      <td>0</td>\n",
       "    </tr>\n",
       "    <tr>\n",
       "      <th>2512</th>\n",
       "      <td>35.0</td>\n",
       "      <td>257.09</td>\n",
       "      <td>28.0</td>\n",
       "      <td>16617.34</td>\n",
       "      <td>0</td>\n",
       "    </tr>\n",
       "    <tr>\n",
       "      <th>63</th>\n",
       "      <td>125.0</td>\n",
       "      <td>814.53</td>\n",
       "      <td>61.0</td>\n",
       "      <td>16917.44</td>\n",
       "      <td>1</td>\n",
       "    </tr>\n",
       "    <tr>\n",
       "      <th>2140</th>\n",
       "      <td>74.0</td>\n",
       "      <td>546.21</td>\n",
       "      <td>35.0</td>\n",
       "      <td>20134.43</td>\n",
       "      <td>0</td>\n",
       "    </tr>\n",
       "    <tr>\n",
       "      <th>232</th>\n",
       "      <td>42.0</td>\n",
       "      <td>260.94</td>\n",
       "      <td>79.0</td>\n",
       "      <td>17519.93</td>\n",
       "      <td>1</td>\n",
       "    </tr>\n",
       "    <tr>\n",
       "      <th>563</th>\n",
       "      <td>33.0</td>\n",
       "      <td>164.87</td>\n",
       "      <td>26.0</td>\n",
       "      <td>6290.25</td>\n",
       "      <td>0</td>\n",
       "    </tr>\n",
       "    <tr>\n",
       "      <th>1019</th>\n",
       "      <td>77.0</td>\n",
       "      <td>530.07</td>\n",
       "      <td>69.0</td>\n",
       "      <td>12697.45</td>\n",
       "      <td>0</td>\n",
       "    </tr>\n",
       "    <tr>\n",
       "      <th>1643</th>\n",
       "      <td>22.0</td>\n",
       "      <td>171.90</td>\n",
       "      <td>126.0</td>\n",
       "      <td>23256.08</td>\n",
       "      <td>1</td>\n",
       "    </tr>\n",
       "  </tbody>\n",
       "</table>\n",
       "</div>"
      ],
      "text/plain": [
       "      calls  minutes  messages   mb_used  is_ultra\n",
       "2686   32.0   218.95       0.0  36180.51         1\n",
       "872    88.0   581.50      85.0  16127.19         0\n",
       "805    40.0   232.35      37.0  13941.60         0\n",
       "2512   35.0   257.09      28.0  16617.34         0\n",
       "63    125.0   814.53      61.0  16917.44         1\n",
       "2140   74.0   546.21      35.0  20134.43         0\n",
       "232    42.0   260.94      79.0  17519.93         1\n",
       "563    33.0   164.87      26.0   6290.25         0\n",
       "1019   77.0   530.07      69.0  12697.45         0\n",
       "1643   22.0   171.90     126.0  23256.08         1"
      ]
     },
     "metadata": {},
     "output_type": "display_data"
    },
    {
     "name": "stdout",
     "output_type": "stream",
     "text": [
      "<class 'pandas.core.frame.DataFrame'>\n",
      "RangeIndex: 3214 entries, 0 to 3213\n",
      "Data columns (total 5 columns):\n",
      " #   Column    Non-Null Count  Dtype  \n",
      "---  ------    --------------  -----  \n",
      " 0   calls     3214 non-null   float64\n",
      " 1   minutes   3214 non-null   float64\n",
      " 2   messages  3214 non-null   float64\n",
      " 3   mb_used   3214 non-null   float64\n",
      " 4   is_ultra  3214 non-null   int64  \n",
      "dtypes: float64(4), int64(1)\n",
      "memory usage: 125.7 KB\n"
     ]
    }
   ],
   "source": [
    "display(megaline_user_data.sample(10))\n",
    "megaline_user_data.info()"
   ]
  },
  {
   "attachments": {},
   "cell_type": "markdown",
   "metadata": {},
   "source": [
    "2. Split the source data into a training set, a validation set, and a test set."
   ]
  },
  {
   "cell_type": "code",
   "execution_count": 45,
   "metadata": {},
   "outputs": [
    {
     "data": {
      "text/html": [
       "<div>\n",
       "<style scoped>\n",
       "    .dataframe tbody tr th:only-of-type {\n",
       "        vertical-align: middle;\n",
       "    }\n",
       "\n",
       "    .dataframe tbody tr th {\n",
       "        vertical-align: top;\n",
       "    }\n",
       "\n",
       "    .dataframe thead th {\n",
       "        text-align: right;\n",
       "    }\n",
       "</style>\n",
       "<table border=\"1\" class=\"dataframe\">\n",
       "  <thead>\n",
       "    <tr style=\"text-align: right;\">\n",
       "      <th></th>\n",
       "      <th>calls</th>\n",
       "      <th>minutes</th>\n",
       "      <th>messages</th>\n",
       "      <th>mb_used</th>\n",
       "      <th>is_ultra</th>\n",
       "    </tr>\n",
       "  </thead>\n",
       "  <tbody>\n",
       "    <tr>\n",
       "      <th>1863</th>\n",
       "      <td>37.0</td>\n",
       "      <td>290.20</td>\n",
       "      <td>21.0</td>\n",
       "      <td>10272.33</td>\n",
       "      <td>1</td>\n",
       "    </tr>\n",
       "    <tr>\n",
       "      <th>3015</th>\n",
       "      <td>42.0</td>\n",
       "      <td>285.25</td>\n",
       "      <td>34.0</td>\n",
       "      <td>11348.42</td>\n",
       "      <td>0</td>\n",
       "    </tr>\n",
       "    <tr>\n",
       "      <th>1136</th>\n",
       "      <td>89.0</td>\n",
       "      <td>602.81</td>\n",
       "      <td>56.0</td>\n",
       "      <td>19293.91</td>\n",
       "      <td>0</td>\n",
       "    </tr>\n",
       "    <tr>\n",
       "      <th>3034</th>\n",
       "      <td>103.0</td>\n",
       "      <td>711.94</td>\n",
       "      <td>42.0</td>\n",
       "      <td>16667.97</td>\n",
       "      <td>0</td>\n",
       "    </tr>\n",
       "    <tr>\n",
       "      <th>845</th>\n",
       "      <td>118.0</td>\n",
       "      <td>799.40</td>\n",
       "      <td>0.0</td>\n",
       "      <td>12828.73</td>\n",
       "      <td>1</td>\n",
       "    </tr>\n",
       "    <tr>\n",
       "      <th>1761</th>\n",
       "      <td>65.0</td>\n",
       "      <td>368.33</td>\n",
       "      <td>13.0</td>\n",
       "      <td>22293.84</td>\n",
       "      <td>0</td>\n",
       "    </tr>\n",
       "    <tr>\n",
       "      <th>1355</th>\n",
       "      <td>72.0</td>\n",
       "      <td>495.11</td>\n",
       "      <td>34.0</td>\n",
       "      <td>15887.37</td>\n",
       "      <td>0</td>\n",
       "    </tr>\n",
       "    <tr>\n",
       "      <th>341</th>\n",
       "      <td>108.0</td>\n",
       "      <td>728.68</td>\n",
       "      <td>4.0</td>\n",
       "      <td>14340.84</td>\n",
       "      <td>1</td>\n",
       "    </tr>\n",
       "    <tr>\n",
       "      <th>1140</th>\n",
       "      <td>40.0</td>\n",
       "      <td>195.79</td>\n",
       "      <td>55.0</td>\n",
       "      <td>19493.38</td>\n",
       "      <td>0</td>\n",
       "    </tr>\n",
       "    <tr>\n",
       "      <th>2381</th>\n",
       "      <td>18.0</td>\n",
       "      <td>118.15</td>\n",
       "      <td>83.0</td>\n",
       "      <td>11368.77</td>\n",
       "      <td>1</td>\n",
       "    </tr>\n",
       "  </tbody>\n",
       "</table>\n",
       "</div>"
      ],
      "text/plain": [
       "      calls  minutes  messages   mb_used  is_ultra\n",
       "1863   37.0   290.20      21.0  10272.33         1\n",
       "3015   42.0   285.25      34.0  11348.42         0\n",
       "1136   89.0   602.81      56.0  19293.91         0\n",
       "3034  103.0   711.94      42.0  16667.97         0\n",
       "845   118.0   799.40       0.0  12828.73         1\n",
       "1761   65.0   368.33      13.0  22293.84         0\n",
       "1355   72.0   495.11      34.0  15887.37         0\n",
       "341   108.0   728.68       4.0  14340.84         1\n",
       "1140   40.0   195.79      55.0  19493.38         0\n",
       "2381   18.0   118.15      83.0  11368.77         1"
      ]
     },
     "metadata": {},
     "output_type": "display_data"
    },
    {
     "name": "stdout",
     "output_type": "stream",
     "text": [
      "<class 'pandas.core.frame.DataFrame'>\n",
      "Int64Index: 1928 entries, 2656 to 510\n",
      "Data columns (total 5 columns):\n",
      " #   Column    Non-Null Count  Dtype  \n",
      "---  ------    --------------  -----  \n",
      " 0   calls     1928 non-null   float64\n",
      " 1   minutes   1928 non-null   float64\n",
      " 2   messages  1928 non-null   float64\n",
      " 3   mb_used   1928 non-null   float64\n",
      " 4   is_ultra  1928 non-null   int64  \n",
      "dtypes: float64(4), int64(1)\n",
      "memory usage: 90.4 KB\n"
     ]
    },
    {
     "data": {
      "text/html": [
       "<div>\n",
       "<style scoped>\n",
       "    .dataframe tbody tr th:only-of-type {\n",
       "        vertical-align: middle;\n",
       "    }\n",
       "\n",
       "    .dataframe tbody tr th {\n",
       "        vertical-align: top;\n",
       "    }\n",
       "\n",
       "    .dataframe thead th {\n",
       "        text-align: right;\n",
       "    }\n",
       "</style>\n",
       "<table border=\"1\" class=\"dataframe\">\n",
       "  <thead>\n",
       "    <tr style=\"text-align: right;\">\n",
       "      <th></th>\n",
       "      <th>calls</th>\n",
       "      <th>minutes</th>\n",
       "      <th>messages</th>\n",
       "      <th>mb_used</th>\n",
       "      <th>is_ultra</th>\n",
       "    </tr>\n",
       "  </thead>\n",
       "  <tbody>\n",
       "    <tr>\n",
       "      <th>2948</th>\n",
       "      <td>18.0</td>\n",
       "      <td>92.38</td>\n",
       "      <td>0.0</td>\n",
       "      <td>4060.64</td>\n",
       "      <td>1</td>\n",
       "    </tr>\n",
       "    <tr>\n",
       "      <th>1186</th>\n",
       "      <td>34.0</td>\n",
       "      <td>249.38</td>\n",
       "      <td>0.0</td>\n",
       "      <td>15363.82</td>\n",
       "      <td>0</td>\n",
       "    </tr>\n",
       "    <tr>\n",
       "      <th>2060</th>\n",
       "      <td>94.0</td>\n",
       "      <td>644.05</td>\n",
       "      <td>66.0</td>\n",
       "      <td>23519.17</td>\n",
       "      <td>0</td>\n",
       "    </tr>\n",
       "    <tr>\n",
       "      <th>2511</th>\n",
       "      <td>72.0</td>\n",
       "      <td>439.92</td>\n",
       "      <td>29.0</td>\n",
       "      <td>14472.76</td>\n",
       "      <td>0</td>\n",
       "    </tr>\n",
       "    <tr>\n",
       "      <th>1004</th>\n",
       "      <td>37.0</td>\n",
       "      <td>279.41</td>\n",
       "      <td>0.0</td>\n",
       "      <td>27548.01</td>\n",
       "      <td>1</td>\n",
       "    </tr>\n",
       "    <tr>\n",
       "      <th>1435</th>\n",
       "      <td>76.0</td>\n",
       "      <td>585.56</td>\n",
       "      <td>30.0</td>\n",
       "      <td>22165.13</td>\n",
       "      <td>0</td>\n",
       "    </tr>\n",
       "    <tr>\n",
       "      <th>1694</th>\n",
       "      <td>70.0</td>\n",
       "      <td>450.96</td>\n",
       "      <td>34.0</td>\n",
       "      <td>16848.98</td>\n",
       "      <td>0</td>\n",
       "    </tr>\n",
       "    <tr>\n",
       "      <th>689</th>\n",
       "      <td>33.0</td>\n",
       "      <td>130.76</td>\n",
       "      <td>0.0</td>\n",
       "      <td>20875.63</td>\n",
       "      <td>0</td>\n",
       "    </tr>\n",
       "    <tr>\n",
       "      <th>724</th>\n",
       "      <td>30.0</td>\n",
       "      <td>204.00</td>\n",
       "      <td>87.0</td>\n",
       "      <td>14152.16</td>\n",
       "      <td>0</td>\n",
       "    </tr>\n",
       "    <tr>\n",
       "      <th>2331</th>\n",
       "      <td>54.0</td>\n",
       "      <td>349.38</td>\n",
       "      <td>24.0</td>\n",
       "      <td>18433.42</td>\n",
       "      <td>0</td>\n",
       "    </tr>\n",
       "  </tbody>\n",
       "</table>\n",
       "</div>"
      ],
      "text/plain": [
       "      calls  minutes  messages   mb_used  is_ultra\n",
       "2948   18.0    92.38       0.0   4060.64         1\n",
       "1186   34.0   249.38       0.0  15363.82         0\n",
       "2060   94.0   644.05      66.0  23519.17         0\n",
       "2511   72.0   439.92      29.0  14472.76         0\n",
       "1004   37.0   279.41       0.0  27548.01         1\n",
       "1435   76.0   585.56      30.0  22165.13         0\n",
       "1694   70.0   450.96      34.0  16848.98         0\n",
       "689    33.0   130.76       0.0  20875.63         0\n",
       "724    30.0   204.00      87.0  14152.16         0\n",
       "2331   54.0   349.38      24.0  18433.42         0"
      ]
     },
     "metadata": {},
     "output_type": "display_data"
    },
    {
     "name": "stdout",
     "output_type": "stream",
     "text": [
      "<class 'pandas.core.frame.DataFrame'>\n",
      "Int64Index: 643 entries, 1415 to 1196\n",
      "Data columns (total 5 columns):\n",
      " #   Column    Non-Null Count  Dtype  \n",
      "---  ------    --------------  -----  \n",
      " 0   calls     643 non-null    float64\n",
      " 1   minutes   643 non-null    float64\n",
      " 2   messages  643 non-null    float64\n",
      " 3   mb_used   643 non-null    float64\n",
      " 4   is_ultra  643 non-null    int64  \n",
      "dtypes: float64(4), int64(1)\n",
      "memory usage: 30.1 KB\n"
     ]
    },
    {
     "data": {
      "text/html": [
       "<div>\n",
       "<style scoped>\n",
       "    .dataframe tbody tr th:only-of-type {\n",
       "        vertical-align: middle;\n",
       "    }\n",
       "\n",
       "    .dataframe tbody tr th {\n",
       "        vertical-align: top;\n",
       "    }\n",
       "\n",
       "    .dataframe thead th {\n",
       "        text-align: right;\n",
       "    }\n",
       "</style>\n",
       "<table border=\"1\" class=\"dataframe\">\n",
       "  <thead>\n",
       "    <tr style=\"text-align: right;\">\n",
       "      <th></th>\n",
       "      <th>calls</th>\n",
       "      <th>minutes</th>\n",
       "      <th>messages</th>\n",
       "      <th>mb_used</th>\n",
       "      <th>is_ultra</th>\n",
       "    </tr>\n",
       "  </thead>\n",
       "  <tbody>\n",
       "    <tr>\n",
       "      <th>2944</th>\n",
       "      <td>156.0</td>\n",
       "      <td>1302.89</td>\n",
       "      <td>105.0</td>\n",
       "      <td>42320.89</td>\n",
       "      <td>1</td>\n",
       "    </tr>\n",
       "    <tr>\n",
       "      <th>25</th>\n",
       "      <td>53.0</td>\n",
       "      <td>356.22</td>\n",
       "      <td>52.0</td>\n",
       "      <td>22471.77</td>\n",
       "      <td>0</td>\n",
       "    </tr>\n",
       "    <tr>\n",
       "      <th>1506</th>\n",
       "      <td>110.0</td>\n",
       "      <td>823.90</td>\n",
       "      <td>135.0</td>\n",
       "      <td>24051.19</td>\n",
       "      <td>1</td>\n",
       "    </tr>\n",
       "    <tr>\n",
       "      <th>1998</th>\n",
       "      <td>53.0</td>\n",
       "      <td>388.55</td>\n",
       "      <td>40.0</td>\n",
       "      <td>12804.13</td>\n",
       "      <td>0</td>\n",
       "    </tr>\n",
       "    <tr>\n",
       "      <th>2643</th>\n",
       "      <td>84.0</td>\n",
       "      <td>528.27</td>\n",
       "      <td>16.0</td>\n",
       "      <td>18328.10</td>\n",
       "      <td>0</td>\n",
       "    </tr>\n",
       "    <tr>\n",
       "      <th>1927</th>\n",
       "      <td>82.0</td>\n",
       "      <td>643.82</td>\n",
       "      <td>28.0</td>\n",
       "      <td>26403.93</td>\n",
       "      <td>1</td>\n",
       "    </tr>\n",
       "    <tr>\n",
       "      <th>844</th>\n",
       "      <td>160.0</td>\n",
       "      <td>1055.79</td>\n",
       "      <td>54.0</td>\n",
       "      <td>33629.53</td>\n",
       "      <td>1</td>\n",
       "    </tr>\n",
       "    <tr>\n",
       "      <th>2616</th>\n",
       "      <td>45.0</td>\n",
       "      <td>266.20</td>\n",
       "      <td>90.0</td>\n",
       "      <td>32625.39</td>\n",
       "      <td>1</td>\n",
       "    </tr>\n",
       "    <tr>\n",
       "      <th>1346</th>\n",
       "      <td>49.0</td>\n",
       "      <td>310.78</td>\n",
       "      <td>3.0</td>\n",
       "      <td>11506.66</td>\n",
       "      <td>0</td>\n",
       "    </tr>\n",
       "    <tr>\n",
       "      <th>419</th>\n",
       "      <td>91.0</td>\n",
       "      <td>686.38</td>\n",
       "      <td>62.0</td>\n",
       "      <td>20499.92</td>\n",
       "      <td>0</td>\n",
       "    </tr>\n",
       "  </tbody>\n",
       "</table>\n",
       "</div>"
      ],
      "text/plain": [
       "      calls  minutes  messages   mb_used  is_ultra\n",
       "2944  156.0  1302.89     105.0  42320.89         1\n",
       "25     53.0   356.22      52.0  22471.77         0\n",
       "1506  110.0   823.90     135.0  24051.19         1\n",
       "1998   53.0   388.55      40.0  12804.13         0\n",
       "2643   84.0   528.27      16.0  18328.10         0\n",
       "1927   82.0   643.82      28.0  26403.93         1\n",
       "844   160.0  1055.79      54.0  33629.53         1\n",
       "2616   45.0   266.20      90.0  32625.39         1\n",
       "1346   49.0   310.78       3.0  11506.66         0\n",
       "419    91.0   686.38      62.0  20499.92         0"
      ]
     },
     "metadata": {},
     "output_type": "display_data"
    },
    {
     "name": "stdout",
     "output_type": "stream",
     "text": [
      "<class 'pandas.core.frame.DataFrame'>\n",
      "Int64Index: 643 entries, 2699 to 1806\n",
      "Data columns (total 5 columns):\n",
      " #   Column    Non-Null Count  Dtype  \n",
      "---  ------    --------------  -----  \n",
      " 0   calls     643 non-null    float64\n",
      " 1   minutes   643 non-null    float64\n",
      " 2   messages  643 non-null    float64\n",
      " 3   mb_used   643 non-null    float64\n",
      " 4   is_ultra  643 non-null    int64  \n",
      "dtypes: float64(4), int64(1)\n",
      "memory usage: 30.1 KB\n"
     ]
    }
   ],
   "source": [
    "mega_train1, mega_test = train_test_split (megaline_user_data, test_size=0.20, train_size = 0.80, random_state=12345, shuffle=True)\n",
    "mega_train, mega_valid = train_test_split (mega_train1, test_size=0.25, train_size = 0.75, random_state=12345, shuffle=True)\n",
    "\n",
    "display(mega_train.sample(10))\n",
    "mega_train.info()\n",
    "display(mega_test.sample(10))\n",
    "mega_test.info()\n",
    "display(mega_valid.sample(10))\n",
    "mega_valid.info()\n",
    "\n",
    "\n"
   ]
  },
  {
   "attachments": {},
   "cell_type": "markdown",
   "metadata": {},
   "source": [
    "3. Investigate the quality of different models by changing hyperparameters. Briefly describe the findings of the study."
   ]
  },
  {
   "cell_type": "code",
   "execution_count": 46,
   "metadata": {},
   "outputs": [
    {
     "name": "stdout",
     "output_type": "stream",
     "text": [
      "(1928, 4)\n",
      "(1928,)\n",
      "(643, 4)\n",
      "(643,)\n"
     ]
    }
   ],
   "source": [
    "features_train = mega_train.drop(['is_ultra'], axis=1)\n",
    "target_train = mega_train['is_ultra']\n",
    "features_valid = mega_valid.drop(['is_ultra'], axis=1)\n",
    "target_valid = mega_valid['is_ultra']\n",
    "features_test = mega_test.drop(['is_ultra'], axis=1)\n",
    "target_test = mega_test['is_ultra']\n",
    "\n",
    "print(features_train.shape)\n",
    "print(target_train.shape)\n",
    "print(features_valid.shape)\n",
    "print(target_valid.shape)"
   ]
  },
  {
   "attachments": {},
   "cell_type": "markdown",
   "metadata": {},
   "source": [
    "Decision Tree"
   ]
  },
  {
   "cell_type": "code",
   "execution_count": 47,
   "metadata": {},
   "outputs": [
    {
     "name": "stdout",
     "output_type": "stream",
     "text": [
      "max_depth = 2 : 0.7573872472783826\n",
      "max_depth = 3 : 0.7651632970451011\n",
      "max_depth = 4 : 0.7636080870917574\n",
      "max_depth = 5 : 0.7589424572317263\n",
      "max_depth = 6 : 0.7573872472783826\n",
      "max_depth = 7 : 0.7744945567651633\n",
      "max_depth = 8 : 0.7667185069984448\n",
      "max_depth = 9 : 0.7620528771384136\n",
      "max_depth = 10 : 0.7713841368584758\n",
      "max_depth = 11 : 0.7589424572317263\n",
      "max_depth = 12 : 0.7558320373250389\n",
      "max_depth = 13 : 0.749611197511664\n",
      "max_depth = 14 : 0.7573872472783826\n",
      "max_depth = 15 : 0.7527216174183515\n"
     ]
    }
   ],
   "source": [
    "for depth in range(2, 16):\n",
    "    model = DecisionTreeClassifier(random_state=12345, max_depth=depth)\n",
    "    model.fit(features_train, target_train)\n",
    "    predictions_valid = model.predict(features_valid)\n",
    "    accurate_score = accuracy_score(target_valid, predictions_valid)\n",
    "    print('max_depth =', depth, ': ', end='')\n",
    "    print(accurate_score)\n"
   ]
  },
  {
   "cell_type": "code",
   "execution_count": 48,
   "metadata": {},
   "outputs": [
    {
     "name": "stdout",
     "output_type": "stream",
     "text": [
      "0.7713841368584758\n"
     ]
    }
   ],
   "source": [
    "decision_model = DecisionTreeClassifier(random_state=12345, max_depth=10)\n",
    "decision_model.fit(features_train, target_train)\n",
    "predictions_valid = decision_model.predict(features_valid)\n",
    "accurate_score = accuracy_score(target_valid, predictions_valid)\n",
    "print(accurate_score)"
   ]
  },
  {
   "attachments": {},
   "cell_type": "markdown",
   "metadata": {},
   "source": [
    "Random Forest"
   ]
  },
  {
   "cell_type": "code",
   "execution_count": 49,
   "metadata": {},
   "outputs": [
    {
     "name": "stdout",
     "output_type": "stream",
     "text": [
      "Accuracy of the best model on the validation set (n_estimators = 22): 0.7931570762052877\n"
     ]
    }
   ],
   "source": [
    "best_score = 0\n",
    "best_est = 0\n",
    "\n",
    "for est in range(1, 31):\n",
    "    random_model = RandomForestClassifier(random_state=12345, n_estimators=est)\n",
    "    random_model.fit(features_train, target_train)\n",
    "    score = random_model.score(features_valid, target_valid)\n",
    "    if score > best_score:\n",
    "        best_score = score\n",
    "        best_est = est\n",
    "\n",
    "print(\"Accuracy of the best model on the validation set (n_estimators = {}): {}\".format(best_est, best_score))"
   ]
  },
  {
   "cell_type": "code",
   "execution_count": 50,
   "metadata": {},
   "outputs": [
    {
     "name": "stdout",
     "output_type": "stream",
     "text": [
      "0.7931570762052877\n"
     ]
    }
   ],
   "source": [
    "final_model = RandomForestClassifier(random_state=12345, n_estimators=22) #selected based on accuracy determined above\n",
    "final_model_fit = final_model.fit(features_train, target_train)\n",
    "\n",
    "final_model_score = final_model.score(features_valid, target_valid)\n",
    "print(final_model_score)"
   ]
  },
  {
   "attachments": {},
   "cell_type": "markdown",
   "metadata": {},
   "source": [
    "Logistic Regression"
   ]
  },
  {
   "cell_type": "code",
   "execution_count": 51,
   "metadata": {},
   "outputs": [
    {
     "name": "stdout",
     "output_type": "stream",
     "text": [
      "Accuracy of the logistic regression model on the training set: 0.7422199170124482\n",
      "Accuracy of the logistic regression model on the validation set: 0.7293934681181959\n"
     ]
    }
   ],
   "source": [
    "logistic_model =  LogisticRegression(random_state=12345, solver='liblinear')\n",
    "logistic_model.fit(features_train, target_train)\n",
    "score_train = logistic_model.score(\n",
    "    features_train, target_train \n",
    ")  \n",
    "score_valid = logistic_model.score(\n",
    "  features_valid ,target_valid\n",
    ")  \n",
    "\n",
    "print(\n",
    "    \"Accuracy of the logistic regression model on the training set:\",\n",
    "    score_train,\n",
    ")\n",
    "print(\n",
    "    \"Accuracy of the logistic regression model on the validation set:\",\n",
    "    score_valid,\n",
    ")\n"
   ]
  },
  {
   "attachments": {},
   "cell_type": "markdown",
   "metadata": {},
   "source": []
  },
  {
   "attachments": {},
   "cell_type": "markdown",
   "metadata": {},
   "source": [
    "4. Check the quality of the model using the test set."
   ]
  },
  {
   "attachments": {},
   "cell_type": "markdown",
   "metadata": {},
   "source": []
  },
  {
   "cell_type": "code",
   "execution_count": 52,
   "metadata": {},
   "outputs": [
    {
     "name": "stdout",
     "output_type": "stream",
     "text": [
      "0.9922239502332815\n"
     ]
    }
   ],
   "source": [
    "test_model = RandomForestClassifier(random_state=12345, n_estimators=22) #selected based on accuracy determined above\n",
    "test_model_fit = test_model.fit(features_test, target_test)\n",
    "\n",
    "test_model_score = test_model.score(features_test, target_test)\n",
    "print(test_model_score)"
   ]
  }
 ],
 "metadata": {
  "kernelspec": {
   "display_name": "Python 3",
   "language": "python",
   "name": "python3"
  },
  "language_info": {
   "codemirror_mode": {
    "name": "ipython",
    "version": 3
   },
   "file_extension": ".py",
   "mimetype": "text/x-python",
   "name": "python",
   "nbconvert_exporter": "python",
   "pygments_lexer": "ipython3",
   "version": "3.9.13"
  },
  "orig_nbformat": 4
 },
 "nbformat": 4,
 "nbformat_minor": 2
}
